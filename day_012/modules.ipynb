{
 "cells": [
  {
   "cell_type": "markdown",
   "metadata": {},
   "source": [
    "# 💻 Exercises: Day 12\n",
    "### Exercises: Level 1"
   ]
  },
  {
   "cell_type": "code",
   "execution_count": 19,
   "metadata": {},
   "outputs": [
    {
     "name": "stdout",
     "output_type": "stream",
     "text": [
      "1. ufbjlo\n",
      "2. h7\n",
      "2. 2m\n",
      "2. 8o\n",
      "2. kh\n",
      "3. rgb color is: RGB(132, 251, 147)\n"
     ]
    }
   ],
   "source": [
    "# 1. Writ a function which generates a six digit/character random_user_id.\n",
    "import random\n",
    "import string\n",
    "\n",
    "def random_user_id():\n",
    "    # Generate a random ID of six characters\n",
    "    random_id = ''.join(random.choices(string.ascii_lowercase + string.digits, k=6))\n",
    "    return random_id\n",
    "\n",
    "# Example usage:\n",
    "print('1.', random_user_id())\n",
    "\n",
    "# 2. Modify the previous task. Declare a function named user_id_gen_by_user. It doesn’t take any parameters but it takes two inputs using input(). One of the inputs is the number of characters and the second input is the number of IDs which are supposed to be generated.\n",
    "\n",
    "def user_id_gen_by_user():\n",
    "\n",
    "    num_chars, num_ids = input(\"Enter the number of characters and the number of IDs separated by space: \").split()\n",
    "    num_chars = int(num_chars)\n",
    "    num_ids = int(num_ids)\n",
    "    \n",
    "    for _ in range(num_ids):\n",
    "        user_id = ''.join(random.choices(string.ascii_lowercase + string.digits, k=num_chars))\n",
    "        print('2.', user_id)\n",
    "\n",
    "# Example usage:\n",
    "user_id_gen_by_user()\n",
    "\n",
    "# 3. Write a function named rgb_color_gen. It will generate rgb colors (3 values ranging from 0 to 255 each).\n",
    "import random\n",
    "\n",
    "def rgb_color_gen():\n",
    "    r = random.randint(0, 255)  # Generating a random value for red (ranging from 0 to 255)\n",
    "    g = random.randint(0, 255)  # Generating a random value for green (ranging from 0 to 255)\n",
    "    b = random.randint(0, 255)  # Generating a random value for blue (ranging from 0 to 255)\n",
    "    \n",
    "    return f\"RGB({r}, {g}, {b})\"\n",
    "\n",
    "# Example usage:\n",
    "print('3. rgb color is:', rgb_color_gen())  # Output: e.g., 'RGB(123, 45, 190)'\n",
    "\n"
   ]
  },
  {
   "cell_type": "markdown",
   "metadata": {},
   "source": [
    "### Exercises: level 2"
   ]
  },
  {
   "cell_type": "code",
   "execution_count": 24,
   "metadata": {},
   "outputs": [
    {
     "name": "stdout",
     "output_type": "stream",
     "text": [
      "1. List of hexw colors: ['#311B3A', '#EFB1E4', '#95954C', '#DBC40D', '#B569A3']\n",
      "2. List of rgb colors: ['rgb(175, 192, 238)', 'rgb(233, 13, 235)', 'rgb(176, 17, 79)', 'rgb(200, 212, 158)', 'rgb(167, 104, 203)']\n",
      "3:\n",
      "['#0F2E86', '#DFDD4A', '#F13006']\n",
      "['#DD2D7D']\n",
      "['rgb(237, 207, 139)', 'rgb(253, 113, 233)', 'rgb(32, 22, 227)']\n",
      "['rgb(157, 39, 240)']\n"
     ]
    }
   ],
   "source": [
    "# 1. Write a function list_of_hexa_colors which returns any number of hexadecimal colors in an array (six hexadecimal numbers written after #. Hexadecimal numeral system is made out of 16 symbols, 0-9 and first 6 letters of the alphabet, a-f. Check the task 6 for output examples).\n",
    "import random\n",
    "\n",
    "def list_of_hexa_colors(num):\n",
    "    hexa_colors = []\n",
    "    for _ in range(num):\n",
    "        color = '#' + ''.join(random.choices('0123456789ABCDEF', k=6))\n",
    "        hexa_colors.append(color)\n",
    "    return hexa_colors\n",
    "\n",
    "# Example usage:\n",
    "print('1. List of hexw colors:',list_of_hexa_colors(5))\n",
    "\n",
    "# 2. Write a function list_of_rgb_colors which returns any number of RGB colors in an array.\n",
    "def list_of_rgb_colors(num):\n",
    "    rgb_colors = []\n",
    "    for _ in range(num):\n",
    "        r = random.randint(0, 255)\n",
    "        g = random.randint(0, 255)\n",
    "        b = random.randint(0, 255)\n",
    "        color = f'rgb({r}, {g}, {b})'\n",
    "        rgb_colors.append(color)\n",
    "    return rgb_colors\n",
    "\n",
    "# Example usage:\n",
    "print('2. List of rgb colors:', list_of_rgb_colors(5))\n",
    "\n",
    "# 3. Write a function generate_colors which can generate any number of hexa or rgb colors.\n",
    "import random\n",
    "\n",
    "def generate_colors(color_type, num):\n",
    "    colors = []\n",
    "    \n",
    "    if color_type == 'hexa':\n",
    "        for _ in range(num):\n",
    "            color = '#' + ''.join(random.choices('0123456789ABCDEF', k=6))\n",
    "            colors.append(color)\n",
    "    elif color_type == 'rgb':\n",
    "        for _ in range(num):\n",
    "            r = random.randint(0, 255)\n",
    "            g = random.randint(0, 255)\n",
    "            b = random.randint(0, 255)\n",
    "            color = f'rgb({r}, {g}, {b})'\n",
    "            colors.append(color)\n",
    "    else:\n",
    "        return \"Invalid color type. Choose 'hexa' or 'rgb'.\"\n",
    "    \n",
    "    return colors\n",
    "\n",
    "# Example usage:\n",
    "print('3:')\n",
    "print(generate_colors('hexa', 3))  # Output: ['#A3E12F', '#03ED55', '#EB3D2B']\n",
    "print(generate_colors('hexa', 1))  # Output: ['#B334EF']\n",
    "print(generate_colors('rgb', 3))   # Output: ['rgb(5, 55, 175)', 'rgb(50, 105, 100)', 'rgb(15, 26, 80)']\n",
    "print(generate_colors('rgb', 1))   # Output: ['rgb(33, 79, 176)']\n"
   ]
  },
  {
   "cell_type": "markdown",
   "metadata": {},
   "source": [
    "### Exercises: level 3"
   ]
  },
  {
   "cell_type": "code",
   "execution_count": 34,
   "metadata": {},
   "outputs": [
    {
     "name": "stdout",
     "output_type": "stream",
     "text": [
      "1. Shuffled list is: [3, 5, 4, 2, 1]\n",
      "2. List of seven unique numbers is: [9, 2, 4, 7, 3, 1, 5]\n"
     ]
    }
   ],
   "source": [
    "# 1. Call your function shuffle_list, it takes a list as a parameter and it returns a shuffled list\n",
    "import random\n",
    "\n",
    "def shuffle_list(input_list):\n",
    "    shuffled_list = input_list[:]  # Create a copy of the input list\n",
    "    random.shuffle(shuffled_list)  # Shuffle the copied list\n",
    "    return shuffled_list\n",
    "\n",
    "# Example usage:\n",
    "my_list = [1, 2, 3, 4, 5]\n",
    "shuffled = shuffle_list(my_list)\n",
    "print('1. Shuffled list is:', shuffled)  # Output: e.g., [5, 3, 2, 4, 1] (a shuffled version of the original list)\n",
    "\n",
    "# 2. Write a function which returns an array of seven random numbers in a range of 0-9. All the numbers must be unique.\n",
    "import random\n",
    "\n",
    "def seven_unique_numbers():\n",
    "    return random.sample(range(10), 7)\n",
    "\n",
    "# Example usage:\n",
    "result = seven_unique_numbers()\n",
    "print('2. List of seven unique numbers is:', result)  # Output: e.g., [3, 7, 0, 9, 5, 1, 2] (a list of seven unique random numbers in the range 0-9)\n"
   ]
  }
 ],
 "metadata": {
  "kernelspec": {
   "display_name": "Python 3",
   "language": "python",
   "name": "python3"
  },
  "language_info": {
   "codemirror_mode": {
    "name": "ipython",
    "version": 3
   },
   "file_extension": ".py",
   "mimetype": "text/x-python",
   "name": "python",
   "nbconvert_exporter": "python",
   "pygments_lexer": "ipython3",
   "version": "3.10.12"
  }
 },
 "nbformat": 4,
 "nbformat_minor": 2
}
