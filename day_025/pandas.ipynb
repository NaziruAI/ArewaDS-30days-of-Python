{
 "cells": [
  {
   "cell_type": "markdown",
   "metadata": {},
   "source": [
    "## Exercises: Day 25\n"
   ]
  },
  {
   "cell_type": "code",
   "execution_count": 2,
   "metadata": {},
   "outputs": [
    {
     "name": "stdout",
     "output_type": "stream",
     "text": [
      "             id                                              title  \\\n",
      "0      12224879                          Interactive Dynamic Video   \n",
      "1      11964716  Florida DJs May Face Felony for April Fools' W...   \n",
      "2      11919867       Technology ventures: From Idea to Enterprise   \n",
      "3      10301696  Note by Note: The Making of Steinway L1037 (2007)   \n",
      "4      10482257  Title II kills investment? Comcast and other I...   \n",
      "...         ...                                                ...   \n",
      "20094  12379592  How Purism Avoids Intels Active Management Tec...   \n",
      "20095  10339284          YC Application Translated and Broken Down   \n",
      "20096  10824382  Microkernels are slow and Elvis didn't do no d...   \n",
      "20097  10739875                      How Product Hunt really works   \n",
      "20098  11680777  RoboBrowser: Your friendly neighborhood web sc...   \n",
      "\n",
      "                                                     url  num_points  \\\n",
      "0                http://www.interactivedynamicvideo.com/         386   \n",
      "1      http://www.thewire.com/entertainment/2013/04/f...           2   \n",
      "2      https://www.amazon.com/Technology-Ventures-Ent...           3   \n",
      "3      http://www.nytimes.com/2007/11/07/movies/07ste...           8   \n",
      "4      http://arstechnica.com/business/2015/10/comcas...          53   \n",
      "...                                                  ...         ...   \n",
      "20094  https://puri.sm/philosophy/how-purism-avoids-i...          10   \n",
      "20095  https://medium.com/@zreitano/the-yc-applicatio...           4   \n",
      "20096  http://blog.darknedgy.net/technology/2016/01/0...         169   \n",
      "20097  https://medium.com/@benjiwheeler/how-product-h...         695   \n",
      "20098              https://github.com/jmcarp/robobrowser         182   \n",
      "\n",
      "       num_comments         author        created_at  \n",
      "0                52       ne0phyte    8/4/2016 11:52  \n",
      "1                 1       vezycash   6/23/2016 22:20  \n",
      "2                 1        hswarna    6/17/2016 0:01  \n",
      "3                 2     walterbell    9/30/2015 4:12  \n",
      "4                22         Deinos   10/31/2015 9:48  \n",
      "...             ...            ...               ...  \n",
      "20094             6  AdmiralAsshat    8/29/2016 2:22  \n",
      "20095             1       zreitano   10/6/2015 14:57  \n",
      "20096           132    vezzy-fnord     1/2/2016 0:49  \n",
      "20097           222          brw12  12/15/2015 19:32  \n",
      "20098            58      pmoriarty    5/12/2016 1:43  \n",
      "\n",
      "[20099 rows x 7 columns]\n"
     ]
    }
   ],
   "source": [
    "# 1. Read the hacker_news.csv file from data directory \n",
    "import pandas as pd\n",
    "df = pd.read_csv('../data/hacker_news copy.csv')\n",
    "print(df)\n"
   ]
  },
  {
   "cell_type": "code",
   "execution_count": 3,
   "metadata": {},
   "outputs": [
    {
     "name": "stdout",
     "output_type": "stream",
     "text": [
      "         id                                              title  \\\n",
      "0  12224879                          Interactive Dynamic Video   \n",
      "1  11964716  Florida DJs May Face Felony for April Fools' W...   \n",
      "2  11919867       Technology ventures: From Idea to Enterprise   \n",
      "3  10301696  Note by Note: The Making of Steinway L1037 (2007)   \n",
      "4  10482257  Title II kills investment? Comcast and other I...   \n",
      "\n",
      "                                                 url  num_points  \\\n",
      "0            http://www.interactivedynamicvideo.com/         386   \n",
      "1  http://www.thewire.com/entertainment/2013/04/f...           2   \n",
      "2  https://www.amazon.com/Technology-Ventures-Ent...           3   \n",
      "3  http://www.nytimes.com/2007/11/07/movies/07ste...           8   \n",
      "4  http://arstechnica.com/business/2015/10/comcas...          53   \n",
      "\n",
      "   num_comments      author       created_at  \n",
      "0            52    ne0phyte   8/4/2016 11:52  \n",
      "1             1    vezycash  6/23/2016 22:20  \n",
      "2             1     hswarna   6/17/2016 0:01  \n",
      "3             2  walterbell   9/30/2015 4:12  \n",
      "4            22      Deinos  10/31/2015 9:48  \n"
     ]
    }
   ],
   "source": [
    "# 2. Get the first five rows\n",
    "print(df.head())"
   ]
  },
  {
   "cell_type": "code",
   "execution_count": 3,
   "metadata": {},
   "outputs": [
    {
     "name": "stdout",
     "output_type": "stream",
     "text": [
      "             id                                              title  \\\n",
      "20094  12379592  How Purism Avoids Intels Active Management Tec...   \n",
      "20095  10339284          YC Application Translated and Broken Down   \n",
      "20096  10824382  Microkernels are slow and Elvis didn't do no d...   \n",
      "20097  10739875                      How Product Hunt really works   \n",
      "20098  11680777  RoboBrowser: Your friendly neighborhood web sc...   \n",
      "\n",
      "                                                     url  num_points  \\\n",
      "20094  https://puri.sm/philosophy/how-purism-avoids-i...          10   \n",
      "20095  https://medium.com/@zreitano/the-yc-applicatio...           4   \n",
      "20096  http://blog.darknedgy.net/technology/2016/01/0...         169   \n",
      "20097  https://medium.com/@benjiwheeler/how-product-h...         695   \n",
      "20098              https://github.com/jmcarp/robobrowser         182   \n",
      "\n",
      "       num_comments         author        created_at  \n",
      "20094             6  AdmiralAsshat    8/29/2016 2:22  \n",
      "20095             1       zreitano   10/6/2015 14:57  \n",
      "20096           132    vezzy-fnord     1/2/2016 0:49  \n",
      "20097           222          brw12  12/15/2015 19:32  \n",
      "20098            58      pmoriarty    5/12/2016 1:43  \n"
     ]
    }
   ],
   "source": [
    "# 3. Get the last five rows\n",
    "print(df.tail())\n",
    "# "
   ]
  },
  {
   "cell_type": "code",
   "execution_count": 4,
   "metadata": {},
   "outputs": [
    {
     "name": "stdout",
     "output_type": "stream",
     "text": [
      "0              id\n",
      "1           title\n",
      "2             url\n",
      "3      num_points\n",
      "4    num_comments\n",
      "5          author\n",
      "6      created_at\n",
      "dtype: object\n"
     ]
    }
   ],
   "source": [
    "# 4. Get the title column as pandas series\n",
    "print(pd.Series(df.columns))"
   ]
  },
  {
   "cell_type": "code",
   "execution_count": 5,
   "metadata": {},
   "outputs": [
    {
     "name": "stdout",
     "output_type": "stream",
     "text": [
      "Number of rows and colunms is: (20099, 7)\n"
     ]
    }
   ],
   "source": [
    "\n",
    "# 5. Count the number of rows and columns\n",
    "print('Number of rows and colunms is:', df.shape)"
   ]
  },
  {
   "cell_type": "code",
   "execution_count": 24,
   "metadata": {},
   "outputs": [
    {
     "name": "stdout",
     "output_type": "stream",
     "text": [
      "             id                                              title  \\\n",
      "102    10974870                From Python to Lua: Why We Switched   \n",
      "103    11244541          Ubuntu 16.04 LTS to Ship Without Python 2   \n",
      "144    10963528  Create a GUI Application Using Qt and Python i...   \n",
      "196    10716331  How I Solved GCHQ's Xmas Card with Python and ...   \n",
      "436    11895088  Unikernel Power Comes to Java, Node.js, Go, an...   \n",
      "...         ...                                                ...   \n",
      "19597  12061177  David Beazley  Python Concurrency from the Gro...   \n",
      "19852  10988468    Ask HN: How to automate Python apps deployment?   \n",
      "19862  11738470                          Moving Away from Python 2   \n",
      "19980  12524656                      Python vs. Julia Observations   \n",
      "19998  11735438  Show HN: Decorating: Animated pulsed for your ...   \n",
      "\n",
      "                                                     url  num_points  \\\n",
      "102    https://www.distelli.com/blog/using-lua-for-ou...         243   \n",
      "103    http://news.softpedia.com/news/ubuntu-16-04-lt...           2   \n",
      "144                        http://digitalpeer.com/s/c63e          21   \n",
      "196    http://matthewearl.github.io/2015/12/10/gchq-x...           6   \n",
      "436    http://www.infoworld.com/article/3082051/open-...           3   \n",
      "...                                                  ...         ...   \n",
      "19597        https://www.youtube.com/watch?v=MCs5OvhV9S4           2   \n",
      "19852                                                NaN           4   \n",
      "19862  https://asmeurer.github.io/blog/posts/moving-a...         227   \n",
      "19980  https://medium.com/@Jernfrost/python-vs-julia-...           2   \n",
      "19998             https://github.com/ryukinix/decorating           3   \n",
      "\n",
      "       num_comments        author        created_at  \n",
      "102             188      chase202   1/26/2016 18:17  \n",
      "103               1       _snydly    3/8/2016 10:39  \n",
      "144               1        zoodle   1/24/2016 19:01  \n",
      "196               1          kipi  12/11/2015 10:38  \n",
      "436               1  syslandscape   6/13/2016 16:23  \n",
      "...             ...           ...               ...  \n",
      "19597             1      bakery2k    7/9/2016 13:05  \n",
      "19852            18       aalhour   1/28/2016 14:55  \n",
      "19862           275     ngoldbaum   5/20/2016 15:14  \n",
      "19980             1   blacksmythe    9/18/2016 9:54  \n",
      "19998             1         lerax    5/20/2016 3:48  \n",
      "\n",
      "[160 rows x 7 columns]\n"
     ]
    }
   ],
   "source": [
    "# i- Filter the titles which contain python\n",
    "python_titles = df[df['title'].str.contains('Python', case=False)]\n",
    "print(python_titles)"
   ]
  },
  {
   "cell_type": "code",
   "execution_count": 31,
   "metadata": {},
   "outputs": [
    {
     "name": "stdout",
     "output_type": "stream",
     "text": [
      "             id                                              title  \\\n",
      "267    12352636   Show HN: Hire JavaScript - Top JavaScript Talent   \n",
      "580    10871330  Python integration for the Duktape Javascript ...   \n",
      "811    10741251  Ask HN: Are there any projects or compilers wh...   \n",
      "1046   11343334  If you write JavaScript tools or libraries, bu...   \n",
      "1093   10422726  Rollup.js: A next-generation JavaScript module...   \n",
      "...         ...                                                ...   \n",
      "19349  11448301    Fotorama, a responsive JavaScript photo gallery   \n",
      "19548  12105148                 Another Kind of JavaScript Fatigue   \n",
      "19610  12203508  Lonely programmer detective uncovers the Mozil...   \n",
      "19885  12552131  Ask HN: Best Practices for CSS in a Modern Jav...   \n",
      "20069  12149183  Show HN: Parse recipe ingredients using JavaSc...   \n",
      "\n",
      "                                                     url  num_points  \\\n",
      "267                              https://www.hirejs.com/           1   \n",
      "580               https://pypi.python.org/pypi/pyduktape           3   \n",
      "811                                                  NaN           1   \n",
      "1046   https://medium.com/@Rich_Harris/how-to-not-bre...          48   \n",
      "1093                                 http://rollupjs.org          57   \n",
      "...                                                  ...         ...   \n",
      "19349                                http://fotorama.io/           1   \n",
      "19548  http://chrismm.com/blog/the-other-kind-of-java...           9   \n",
      "19610         http://stackoverflow.com/a/38677222/984780          29   \n",
      "19885                                                NaN           6   \n",
      "20069       https://github.com/herkyl/ingredients-parser           6   \n",
      "\n",
      "       num_comments          author        created_at  \n",
      "267               1        eibrahim   8/24/2016 15:16  \n",
      "580               1         stefano    1/9/2016 14:26  \n",
      "811               2         ggonweb  12/15/2015 23:26  \n",
      "1046             19     callumlocke   3/23/2016 10:54  \n",
      "1093             17         dmmalam   10/21/2015 0:02  \n",
      "...             ...             ...               ...  \n",
      "19349             1         alexkon    4/7/2016 15:59  \n",
      "19548             2    JacksCracked    7/16/2016 3:44  \n",
      "19610             8    luisperezphd    8/1/2016 16:07  \n",
      "19885             6        xwvvvvwx   9/21/2016 20:53  \n",
      "20069             2  zongitsrinzler   7/23/2016 11:35  \n",
      "\n",
      "[170 rows x 7 columns]\n"
     ]
    }
   ],
   "source": [
    "#  ii- Filter the titles which contain JavaScript\n",
    "\n",
    "javascript_titles = df[df['title'].str.contains('JavaScript', case=False)]\n",
    "print(javascript_titles)\n"
   ]
  },
  {
   "cell_type": "markdown",
   "metadata": {},
   "source": [
    "  ### iii- Explore the data and make sense of it\n"
   ]
  },
  {
   "cell_type": "code",
   "execution_count": 14,
   "metadata": {},
   "outputs": [
    {
     "name": "stdout",
     "output_type": "stream",
     "text": [
      "Descriptive Statistics:\n",
      "                 id    num_points  num_comments\n",
      "count  2.009900e+04  20099.000000  20099.000000\n",
      "mean   1.131755e+07     50.296632     24.803025\n",
      "std    6.964531e+05    107.110322     56.108639\n",
      "min    1.017691e+07      1.000000      1.000000\n",
      "25%    1.070172e+07      3.000000      1.000000\n",
      "50%    1.128452e+07      9.000000      3.000000\n",
      "75%    1.192613e+07     54.000000     21.000000\n",
      "max    1.257898e+07   2553.000000   1733.000000\n"
     ]
    }
   ],
   "source": [
    "# Descriptive statistics\n",
    "print(\"Descriptive Statistics:\")\n",
    "print(df.describe())"
   ]
  },
  {
   "cell_type": "code",
   "execution_count": 15,
   "metadata": {},
   "outputs": [
    {
     "name": "stdout",
     "output_type": "stream",
     "text": [
      "\n",
      "Data Types:\n",
      "id               int64\n",
      "title           object\n",
      "url             object\n",
      "num_points       int64\n",
      "num_comments     int64\n",
      "author          object\n",
      "created_at      object\n",
      "dtype: object\n"
     ]
    }
   ],
   "source": [
    "# Data types\n",
    "print(\"\\nData Types:\")\n",
    "print(df.dtypes)"
   ]
  },
  {
   "cell_type": "code",
   "execution_count": 17,
   "metadata": {},
   "outputs": [
    {
     "name": "stdout",
     "output_type": "stream",
     "text": [
      "\n",
      "Missing Values:\n",
      "id                 0\n",
      "title              0\n",
      "url             2440\n",
      "num_points         0\n",
      "num_comments       0\n",
      "author             0\n",
      "created_at         0\n",
      "dtype: int64\n"
     ]
    }
   ],
   "source": [
    "# Check for missing values\n",
    "print(\"\\nMissing Values:\")\n",
    "print(df.isnull().sum())"
   ]
  },
  {
   "cell_type": "code",
   "execution_count": 28,
   "metadata": {},
   "outputs": [
    {
     "name": "stdout",
     "output_type": "stream",
     "text": [
      "Number points Histogram\n"
     ]
    },
    {
     "data": {
      "text/plain": [
       "<Axes: >"
      ]
     },
     "execution_count": 28,
     "metadata": {},
     "output_type": "execute_result"
    },
    {
     "data": {
      "image/png": "[encoded data removed]",
      "text/plain": [
       "<Figure size 640x480 with 1 Axes>"
      ]
     },
     "metadata": {},
     "output_type": "display_data"
    }
   ],
   "source": [
    "# Visualizing data distribution (example - histogram)\n",
    "print('Number points Histogram')\n",
    "df['num_points'].hist()"
   ]
  },
  {
   "cell_type": "code",
   "execution_count": 23,
   "metadata": {},
   "outputs": [
    {
     "name": "stdout",
     "output_type": "stream",
     "text": [
      "Number points Histogram\n"
     ]
    },
    {
     "data": {
      "text/plain": [
       "<Axes: >"
      ]
     },
     "execution_count": 23,
     "metadata": {},
     "output_type": "execute_result"
    },
    {
     "data": {
      "image/png": "[encoded data removed]",
      "text/plain": [
       "<Figure size 640x480 with 1 Axes>"
      ]
     },
     "metadata": {},
     "output_type": "display_data"
    }
   ],
   "source": [
    "# Visualizing data distribution (example - histogram)\n",
    "print('Number points Histogram')\n",
    "df['num_comments'].hist()"
   ]
  },
  {
   "cell_type": "code",
   "execution_count": 32,
   "metadata": {},
   "outputs": [
    {
     "data": {
      "image/png": "[encoded data removed]",
      "text/plain": [
       "<Figure size 800x600 with 1 Axes>"
      ]
     },
     "metadata": {},
     "output_type": "display_data"
    }
   ],
   "source": [
    "import matplotlib.pyplot as plt\n",
    "\n",
    "# Count the number of Python and JavaScript titles\n",
    "python_count = len(python_titles)\n",
    "javascript_titles = len(javascript_titles)\n",
    "counts = [python_count, javascript_titles]\n",
    "labels = ['Python', 'JavaScript']\n",
    "\n",
    "# Plotting the pie chart\n",
    "plt.figure(figsize=(8, 6))\n",
    "plt.pie(counts, labels=labels, autopct='%1.1f%%', startangle=140)\n",
    "plt.title('Distribution of Titles - Python vs JavaScript')\n",
    "plt.axis('equal')  # Equal aspect ratio ensures that pie is drawn as a circle.\n",
    "plt.show()\n"
   ]
  },
  {
   "cell_type": "code",
   "execution_count": null,
   "metadata": {},
   "outputs": [],
   "source": []
  }
 ],
 "metadata": {
  "kernelspec": {
   "display_name": "Python 3",
   "language": "python",
   "name": "python3"
  },
  "language_info": {
   "codemirror_mode": {
    "name": "ipython",
    "version": 3
   },
   "file_extension": ".py",
   "mimetype": "text/x-python",
   "name": "python",
   "nbconvert_exporter": "python",
   "pygments_lexer": "ipython3",
   "version": "3.10.12"
  }
 },
 "nbformat": 4,
 "nbformat_minor": 2
}
