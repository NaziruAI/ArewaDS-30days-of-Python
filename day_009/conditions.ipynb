{
 "cells": [
  {
   "cell_type": "markdown",
   "metadata": {},
   "source": [
    "# 💻 Exercises: Day 9\n",
    "### Exercises: Level 1\n",
    "1. Get user input using input(“Enter your age: ”). If user is 18 or older, give feedback: You are old enough to drive. If below 18 give feedback to wait for the missing amount of years"
   ]
  },
  {
   "cell_type": "code",
   "execution_count": 6,
   "metadata": {},
   "outputs": [
    {
     "name": "stdout",
     "output_type": "stream",
     "text": [
      "You are old enough to drive.\n"
     ]
    }
   ],
   "source": [
    "driver_age = int(input('Enter your age: '))\n",
    "\n",
    "if driver_age < 18:\n",
    "    if driver_age == 17:\n",
    "        print(f'You need {18 - driver_age} more year to learn to drive')\n",
    "    else:\n",
    "        print(f'You need {18 - driver_age} more year to learn to drive')\n",
    "\n",
    "else:\n",
    "    print('You are old enough to drive.')\n",
    "    \n"
   ]
  },
  {
   "cell_type": "markdown",
   "metadata": {},
   "source": [
    "2.  Compare the values of my_age and your_age using if … else. Who is older (me or you)? Use input(“Enter your age: ”) to get the age as input. You can use a nested condition to print 'year' for 1 year difference in age, 'years' for bigger differences, and a custom text if my_age = your_age. Output:"
   ]
  },
  {
   "cell_type": "code",
   "execution_count": 33,
   "metadata": {},
   "outputs": [
    {
     "name": "stdout",
     "output_type": "stream",
     "text": [
      "You are 2 years older than me.\n"
     ]
    }
   ],
   "source": [
    "my_age = 30\n",
    "your_age = int(input(' Enter your age: '))\n",
    "if your_age > my_age:\n",
    "    if your_age - my_age == 1:\n",
    "        print(f'You are {your_age-my_age} year older than me.')\n",
    "    else:\n",
    "        print(f'You are {your_age-my_age} years older than me.')\n",
    "elif my_age > your_age:\n",
    "    if my_age - your_age == 1:\n",
    "        print(f\"I'm {my_age - your_age} year older than you.\")\n",
    "    else:\n",
    "        print(f\"I'm {my_age - your_age} year older than you.\")\n",
    "else:\n",
    "    print('We were born in the same year')\n",
    "\n",
    "        "
   ]
  },
  {
   "cell_type": "markdown",
   "metadata": {},
   "source": [
    "3.  Get two numbers from the user using input prompt. If a is greater than b return a is greater than b, if a is less b return a is smaller than b, else a is equal to b."
   ]
  },
  {
   "cell_type": "code",
   "execution_count": 15,
   "metadata": {},
   "outputs": [
    {
     "name": "stdout",
     "output_type": "stream",
     "text": [
      "4 is equal to 4\n"
     ]
    }
   ],
   "source": [
    "# input declarations\n",
    "a = int(input('Enter number one:'))\n",
    "b = int(input('Enter  number two:'))\n",
    "\n",
    "if a > b:\n",
    "  print(f'{a} is greater than {b}')\n",
    "elif a < b:\n",
    "  print(f'{a} is smaller than {b}')\n",
    "else:\n",
    "  print(f'{a} is equal to {b}')\n"
   ]
  },
  {
   "cell_type": "markdown",
   "metadata": {},
   "source": [
    "  ### Exercises: Level 2\n",
    "\n",
    "   1. Write a code which gives grade to students according to theirs scores:"
   ]
  },
  {
   "cell_type": "code",
   "execution_count": 23,
   "metadata": {},
   "outputs": [
    {
     "name": "stdout",
     "output_type": "stream",
     "text": [
      "Grade is B\n"
     ]
    }
   ],
   "source": [
    "score = float(input('Enter the Score'))\n",
    "\n",
    "if score > 0 and score <= 49:\n",
    "    print('Grade is F')\n",
    "elif score >49 and score <= 59:\n",
    "    print('Grade is D')\n",
    "elif score > 59 and score <= 69:\n",
    "    print('Grade is C')\n",
    "elif score > 69 and score <= 89:\n",
    "    print('Grade is B')\n",
    "elif score > 89 and score <= 100:\n",
    "    print('Grade is A')\n",
    "else:\n",
    "    print('Enteer a valid Score')\n",
    "\n",
    "\n",
    "\n"
   ]
  },
  {
   "cell_type": "markdown",
   "metadata": {},
   "source": [
    "2. Check if the season is Autumn, Winter, Spring or Summer. If the user input is:\n",
    "September, October or November, the season is Autumn.\n",
    "December, January or February, the season is Winter.\n",
    "March, April or May, the season is Spring\n",
    "June, July or August, the season is Summer"
   ]
  },
  {
   "cell_type": "code",
   "execution_count": 25,
   "metadata": {},
   "outputs": [
    {
     "name": "stdout",
     "output_type": "stream",
     "text": [
      "The season is Autumn\n"
     ]
    }
   ],
   "source": [
    "# getting an input\n",
    "season = input('Enter the season: ').capitalize()\n",
    "\n",
    "# checking for the entered month\n",
    "if season == 'September' or season == 'October' or season == 'November':\n",
    "    print('The season is Autumn')\n",
    "if season == 'December' or season == 'January' or season == 'February':\n",
    "    print('The season is Winter')\n",
    "if season == 'March' or season == 'April' or season == 'May':\n",
    "    print('The season is Spring')\n",
    "if season == 'June' or season == 'July' or season == 'August':\n",
    "    print('The season is Autumn')\n",
    "else:\n",
    "    print('Enter a valid month')"
   ]
  },
  {
   "cell_type": "markdown",
   "metadata": {},
   "source": [
    "The following list contains some fruits:\n",
    "fruits = ['banana', 'orange', 'mango', 'lemon']\n",
    "\n",
    "If a fruit doesn't exist in the list add the fruit to the list and print the modified list. If the fruit exists print('That fruit already exist in the list')"
   ]
  },
  {
   "cell_type": "code",
   "execution_count": 35,
   "metadata": {},
   "outputs": [
    {
     "name": "stdout",
     "output_type": "stream",
     "text": [
      "Modified fruits is  ['banana', 'orange', 'mango', 'lemon', 'pineapple']\n"
     ]
    }
   ],
   "source": [
    "fruits = ['banana', 'orange', 'mango', 'lemon']\n",
    "fruit = input('Enter the fruit:')\n",
    "\n",
    "if fruit not in fruits:\n",
    "    fruits.append(fruit)\n",
    "    print('Modified fruits is ', fruits)\n",
    "else:\n",
    "    print(f'That {fruit} already exist in the list')"
   ]
  },
  {
   "cell_type": "markdown",
   "metadata": {},
   "source": [
    " ### Exercises: Level 3\n",
    "\n",
    "   1. Here we have a person dictionary. Feel free to modify it!\n",
    "   "
   ]
  },
  {
   "cell_type": "code",
   "execution_count": 32,
   "metadata": {},
   "outputs": [
    {
     "name": "stdout",
     "output_type": "stream",
     "text": [
      "Yes there is Python skill\n",
      "The middle skill in the skills list is: Node\n",
      "Unknown title\n",
      "hjgftruyf\n",
      "Asabeneh Yetayeh lives in Finland and is married.\n"
     ]
    }
   ],
   "source": [
    "person={\n",
    "    'first_name': 'Asabeneh',\n",
    "    'last_name': 'Yetayeh',\n",
    "    'age': 250,\n",
    "    'country': 'Finland',\n",
    "    'is_married': True,\n",
    "    'skills': ['JavaScript', 'React', 'Node', 'MongoDB', 'Python'],\n",
    "    'address': {\n",
    "        'street': 'Space street',\n",
    "        'zipcode': '02210'\n",
    "    }\n",
    "    }\n",
    "\n",
    "#    * Check if the person dictionary has skills key, if so print out the middle skill in the skills list.\n",
    "if 'skills' in person:\n",
    "    skills_list = person['skills']\n",
    "    if 'Python' in skills_list:\n",
    "        print('Yes there is Python skill')\n",
    "    else:\n",
    "        print('No there is no Python skill')\n",
    "else:\n",
    "    print('Person does not have any skills key')\n",
    "\n",
    "#      * Check if the person dictionary has skills key, if so check if the person has 'Python' skill and print out the result.\n",
    "if len(skills_list) % 2 != 0:\n",
    "    middle_index = len(skills_list) // 2\n",
    "    print(f\"The middle skill in the skills list is: {skills_list[middle_index]}\")\n",
    "    \n",
    "# * If a person skills has only JavaScript and React, print('He is a front end developer'), if the person skills has Node, Python, MongoDB, print('He is a backend developer'), if the person skills has React, Node and MongoDB, Print('He is a fullstack developer'), else print('unknown title') - for more accurate results more conditions can be nested!\n",
    "if set(skills_list) == {'JavaScript', 'React'}:\n",
    "    print('He is a front end developer')\n",
    "elif set(skills_list) == {'Node', 'Python', 'MongoDB'}:\n",
    "    print('He is a backend developer')\n",
    "elif set(skills_list) == {'React', 'Node', 'MongoDB'}:\n",
    "    print('He is a fullstack developer')\n",
    "else:\n",
    "    print('Unknown title')\n",
    "\n",
    "#  * If the person is married and if he lives in Finland, print the information in the following format:\n",
    "if person['is_married'] and person['country'] == 'Finland':\n",
    "    print('hjgftruyf')\n",
    "    print(f\"{person['first_name']} {person['last_name']} lives in {person['country']} and is married.\")"
   ]
  },
  {
   "cell_type": "code",
   "execution_count": null,
   "metadata": {},
   "outputs": [],
   "source": []
  }
 ],
 "metadata": {
  "kernelspec": {
   "display_name": "Python 3",
   "language": "python",
   "name": "python3"
  },
  "language_info": {
   "codemirror_mode": {
    "name": "ipython",
    "version": 3
   },
   "file_extension": ".py",
   "mimetype": "text/x-python",
   "name": "python",
   "nbconvert_exporter": "python",
   "pygments_lexer": "ipython3",
   "version": "3.10.12"
  }
 },
 "nbformat": 4,
 "nbformat_minor": 2
}
