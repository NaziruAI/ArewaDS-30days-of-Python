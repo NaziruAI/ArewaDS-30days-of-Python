{
 "cells": [
  {
   "cell_type": "markdown",
   "metadata": {},
   "source": [
    "#Exercises: Day 13"
   ]
  },
  {
   "cell_type": "code",
   "execution_count": 42,
   "metadata": {},
   "outputs": [
    {
     "name": "stdout",
     "output_type": "stream",
     "text": [
      "1. Negetive and zero list: [-4, -3, -2, -1, 0]\n",
      "2. Flattened list: [[1, 2, 3], [4, 5, 6], [7, 8, 9]]\n",
      "3. List of tuples: [(0, 1, 0, 0, 0, 0, 0), (1, 1, 1, 1, 1, 1, 1), (2, 1, 2, 4, 8, 16, 32), (3, 1, 3, 9, 27, 81, 243), (4, 1, 4, 16, 64, 256, 1024), (5, 1, 5, 25, 125, 625, 3125), (6, 1, 6, 36, 216, 1296, 7776), (7, 1, 7, 49, 343, 2401, 16807), (8, 1, 8, 64, 512, 4096, 32768), (9, 1, 9, 81, 729, 6561, 59049), (10, 1, 10, 100, 1000, 10000, 100000)]\n",
      "4, Flattened countries: [('Finland', 'Helsinki'), ('Sweden', 'Stockholm'), ('Norway', 'Oslo')]\n",
      "5. List of dictionaries:  [{'country': 'FINLAND', 'city': 'HELSINKI'}, {'country': 'SWEDEN', 'city': 'STOCKHOLM'}, {'country': 'NORWAY', 'city': 'OSLO'}]\n",
      "6, Concatinated string:  ['Asabeneh Yetayeh', 'David Smith', 'Donald Trump', 'Bill Gates']\n",
      "7. Slope is: 1.6666666666666667\n"
     ]
    }
   ],
   "source": [
    "# 1. Filter only negative and zero in the list using list comprehension\n",
    "numbers = [-4, -3, -2, -1, 0, 2, 4, 6]\n",
    "negetive_zero = [number for number in numbers if number <= 0]\n",
    "print('1. Negetive and zero list:', negetive_zero)\n",
    "\n",
    "# 2. Flatten the following list of lists of lists to a one dimensional list \n",
    "list_of_lists =[[[1, 2, 3]], [[4, 5, 6]], [[7, 8, 9]]]\n",
    "flattened_list = [num for row in list_of_lists for num in row]\n",
    "print('2. Flattened list:', flattened_list)\n",
    "\n",
    "# 3. Using list comprehension create the following list of tuples:\n",
    "numbers = [(i**1, i**0, i**1, i**2, i**3, i**4, i**5) for i in range(11)]\n",
    "print('3. List of tuples:', numbers)\n",
    "\n",
    "# 4. Flatten the following list to a new list:\n",
    "countries = [[('Finland', 'Helsinki')], [('Sweden', 'Stockholm')], [('Norway', 'Oslo')]]\n",
    "flattened_countries = [country for row in countries for country in row]\n",
    "print('4, Flattened countries:', flattened_countries)\n",
    "\n",
    "# 5. Change the following list to a list of dictionaries:\n",
    "countries = [[('Finland', 'Helsinki')], [('Sweden', 'Stockholm')], [('Norway', 'Oslo')]]\n",
    "dct_list = [{'country': country.upper(), 'city': city.upper()} for [(country, city)] in countries]\n",
    "print('5. List of dictionaries: ', dct_list)\n",
    "\n",
    "# 6. Change the following list of lists to a list of concatenated strings:\n",
    "names = [[('Asabeneh', 'Yetayeh')], [('David', 'Smith')], [('Donald', 'Trump')], [('Bill', 'Gates')]]\n",
    "conc_string = [' '.join([x, y])  for [(x, y)] in names]\n",
    "print('6, Concatinated string: ', conc_string)\n",
    "\n",
    "# 7. Write a lambda function which can solve a slope or y-intercept of linear functions.\n",
    "slope = lambda x1, x2, y1, y2: (y2-y1)/(x2-x1)\n",
    "print('7. Slope is:', slope(1, 4, 1, 6 ))"
   ]
  }
 ],
 "metadata": {
  "kernelspec": {
   "display_name": "Python 3",
   "language": "python",
   "name": "python3"
  },
  "language_info": {
   "codemirror_mode": {
    "name": "ipython",
    "version": 3
   },
   "file_extension": ".py",
   "mimetype": "text/x-python",
   "name": "python",
   "nbconvert_exporter": "python",
   "pygments_lexer": "ipython3",
   "version": "3.10.12"
  }
 },
 "nbformat": 4,
 "nbformat_minor": 2
}
