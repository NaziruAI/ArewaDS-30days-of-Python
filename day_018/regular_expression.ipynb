{
 "cells": [
  {
   "cell_type": "markdown",
   "metadata": {},
   "source": [
    "# 💻 Exercises: Day 18\n",
    "### Exercises: Level 1"
   ]
  },
  {
   "cell_type": "code",
   "execution_count": 12,
   "metadata": {},
   "outputs": [
    {
     "name": "stdout",
     "output_type": "stream",
     "text": [
      "[(6, 'love'), (5, 'you'), (3, 'can'), (2, 'do'), (2, 'else'), (2, 'i'), (2, 'if'), (2, 'not'), (2, 'teaching'), (2, 'what'), (1, 'all'), (1, 'an'), (1, 'application'), (1, 'capabilities'), (1, 'develop'), (1, 'give'), (1, 'python'), (1, 'something'), (1, 'the'), (1, 'to'), (1, 'which')]\n",
      "Extracted Points: [-12, -4, -3, -1, 0, 4, 8]\n",
      "Distance between furthest particles: 20\n"
     ]
    }
   ],
   "source": [
    "# 1. What is the most frequent word in the following paragraph?\n",
    "import re\n",
    "from collections import Counter\n",
    "paragraph = 'I love teaching. If you do not love teaching what else can you love. I love Python if you do not love something which can give you all the capabilities to develop an application what else can you love.'\n",
    "\n",
    "# Tokenize words using regex\n",
    "words = re.findall(r'\\b\\w+\\b', paragraph.lower())\n",
    "\n",
    "# Count occurrences of each word\n",
    "word_counts = Counter(words)\n",
    "\n",
    "# Sort words by frequency in descending order\n",
    "sorted_word_counts = sorted(word_counts.items(), key=lambda x: (-x[1], x[0]))\n",
    "\n",
    "# Print the words along with their frequencies\n",
    "result = [(count, word) for word, count in sorted_word_counts]\n",
    "print(result)\n",
    "\n",
    "import re\n",
    "\n",
    "text = \"The position of some particles on the horizontal x-axis are -12, -4, -3 and -1 in the negative direction, 0 at origin, 4 and 8 in the positive direction.\"\n",
    "\n",
    "# Extract numbers using regex\n",
    "numbers = re.findall(r'-?\\d+', text)\n",
    "\n",
    "# Convert numbers to integers\n",
    "numbers = [int(num) for num in numbers]\n",
    "\n",
    "# Sort the numbers\n",
    "sorted_points = sorted(numbers)\n",
    "\n",
    "# Calculate the distance between the two furthest particles\n",
    "distance = sorted_points[-1] - sorted_points[0]\n",
    "\n",
    "print(\"Extracted Points:\", sorted_points)\n",
    "print(\"Distance between furthest particles:\", distance)\n"
   ]
  },
  {
   "cell_type": "markdown",
   "metadata": {},
   "source": [
    "### Exercises: level 2"
   ]
  },
  {
   "cell_type": "code",
   "execution_count": 13,
   "metadata": {},
   "outputs": [
    {
     "name": "stdout",
     "output_type": "stream",
     "text": [
      "True\n",
      "False\n",
      "False\n",
      "True\n"
     ]
    }
   ],
   "source": [
    "# 1. Write a pattern which identifies if a string is a valid python variable\n",
    "\n",
    "import re\n",
    "\n",
    "def is_valid_variable(variable_name):\n",
    "    pattern = r'^[a-zA-Z_][a-zA-Z0-9_]*$'\n",
    "    return bool(re.match(pattern, variable_name))\n",
    "\n",
    "# Test cases\n",
    "print(is_valid_variable('first_name'))    # True\n",
    "print(is_valid_variable('first-name'))    # False\n",
    "print(is_valid_variable('1first_name'))   # False\n",
    "print(is_valid_variable('firstname'))     # True\n"
   ]
  },
  {
   "cell_type": "markdown",
   "metadata": {},
   "source": [
    "### Exercises: level 3"
   ]
  },
  {
   "cell_type": "code",
   "execution_count": 16,
   "metadata": {},
   "outputs": [
    {
     "name": "stdout",
     "output_type": "stream",
     "text": [
      "Cleaned text is:  I am a teacher and I love teaching There is nothing as more rewarding as educating and empowering people I found teaching more interesting than any other jobs Does this motivate you to be a teacher\n",
      "Three most frequent words:\n",
      "I: 3 occurrences\n",
      "a: 2 occurrences\n",
      "teacher: 2 occurrences\n"
     ]
    }
   ],
   "source": [
    "# 1. Clean the following text. After cleaning, count three most frequent words in the string.\n",
    "from collections import Counter\n",
    "import re\n",
    "sentence = '''%I $am@% a %tea@cher%, &and& I lo%#ve %tea@ching%;. There $is nothing; &as& mo@re rewarding as educa@ting &and& @emp%o@wering peo@ple. ;I found tea@ching m%o@re interesting tha@n any other %jo@bs. %Do@es thi%s mo@tivate yo@u to be a tea@cher!?'''\n",
    "\n",
    "# Clean the text by removing special characters, symbols, and extra spaces\n",
    "cleaned_text = re.sub(r'[^A-Za-z\\s]', '', sentence)\n",
    "\n",
    "# Tokenize the cleaned text into words\n",
    "words = cleaned_text.split()\n",
    "\n",
    "# Count occurrences of each word\n",
    "word_counts = Counter(words)\n",
    "\n",
    "# Retrieve the three most frequent words\n",
    "most_common_words = word_counts.most_common(3)\n",
    "print('Cleaned text is: ', cleaned_text)\n",
    "print(\"Three most frequent words:\")\n",
    "for word, count in most_common_words:\n",
    "    print(f\"{word}: {count} occurrences\")\n"
   ]
  },
  {
   "cell_type": "code",
   "execution_count": null,
   "metadata": {},
   "outputs": [],
   "source": []
  }
 ],
 "metadata": {
  "kernelspec": {
   "display_name": "Python 3",
   "language": "python",
   "name": "python3"
  },
  "language_info": {
   "name": "python",
   "version": "3.10.12"
  }
 },
 "nbformat": 4,
 "nbformat_minor": 2
}
