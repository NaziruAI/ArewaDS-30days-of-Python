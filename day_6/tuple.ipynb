{
 "cells": [
  {
   "cell_type": "markdown",
   "metadata": {},
   "source": [
    "# 💻 Exercises: Day 6\n",
    "### Exercises: Level 1"
   ]
  },
  {
   "cell_type": "code",
   "execution_count": 37,
   "metadata": {},
   "outputs": [
    {
     "name": "stdout",
     "output_type": "stream",
     "text": [
      "1. Empty_tuple:  ()\n",
      "2:\n",
      "i. Brothers:  ('Sagir', 'Shehi', 'Hassan', 'Saifullahi', 'Usman')\n",
      "ii. Sisters:  ('Bilkisu', 'Fariha', 'Algaje', 'Aisha', 'Zaliha', 'Hafsa')\n",
      "3. Siblings:  ('Sagir', 'Shehi', 'Hassan', 'Saifullahi', 'Usman', 'Bilkisu', 'Fariha', 'Algaje', 'Aisha', 'Zaliha', 'Hafsa')\n",
      "4. Siblings length:  11\n",
      "5: Family members: ('Sagir', 'Shehi', 'Hassan', 'Saifullahi', 'Usman', 'Bilkisu', 'Fariha', 'Algaje', 'Aisha', 'Zaliha', 'Hafsa', 'Abba', 'Umma')\n"
     ]
    }
   ],
   "source": [
    "# 1. Create an empty tuple\n",
    "empty_tuple = ()\n",
    "print('1. Empty_tuple: ', empty_tuple)\n",
    "\n",
    "# 2. Create a tuple containing names of your sisters and your brothers (imaginary siblings are fine)\n",
    "brothers =  ('Sagir', 'Shehi', 'Hassan', 'Saifullahi', 'Usman')\n",
    "sisters = ('Bilkisu', 'Fariha', 'Algaje', 'Aisha', 'Zaliha', 'Hafsa')\n",
    "print('2:')\n",
    "print('i. Brothers: ', brothers)\n",
    "print('ii. Sisters: ', sisters)\n",
    "\n",
    "# 3. Join brothers and sisters tuples and assign it to siblings\n",
    "siblings = brothers + sisters\n",
    "print('3. Siblings: ', siblings)\n",
    "\n",
    "# 4. How many siblings do you have?\n",
    "siblings_length = len(siblings)\n",
    "print('4. Siblings length: ', siblings_length)\n",
    "\n",
    "# 5. Modify the siblings tuple and add the name of your father and mother and assign it to family_members\n",
    "siblings = list(siblings)\n",
    "siblings.append('Abba')\n",
    "siblings.append('Umma')\n",
    "family_members = tuple(siblings)\n",
    "print('5: Family members:', family_members)"
   ]
  },
  {
   "cell_type": "markdown",
   "metadata": {},
   "source": [
    "### Exercises: Level 2"
   ]
  },
  {
   "cell_type": "code",
   "execution_count": 44,
   "metadata": {},
   "outputs": [
    {
     "name": "stdout",
     "output_type": "stream",
     "text": [
      "1: \n",
      "Sagir\n",
      "Zaliha\n",
      "Saifullahi\n",
      "Usman\n",
      "...\n",
      "Umma\n",
      "Abba\n",
      "2. Food stuff tuple:  ('apple', 'mango', 'orange', 'onion', 'carrot', 'tomato', 'cow', 'sheep', 'goat')\n",
      "3. Food stuff list:  ['apple', 'mango', 'orange', 'onion', 'carrot', 'tomato', 'cow', 'sheep', 'goat']\n",
      "4. Middle item:  carrot\n",
      "5:\n",
      "i. First three:  ['apple', 'mango', 'orange']\n",
      "ii. last three:  ['cow', 'sheep', 'goat']\n",
      "7: \n",
      "i. NO, Estonia is not a nordic country\n",
      "ii. YES, Iceland is a nordic country\n"
     ]
    }
   ],
   "source": [
    "# 1. Unpack siblings and parents from family_members\n",
    "family_members = list(family_members)\n",
    "Sagir, Shehi, Hassan, Saifullahi, Usman, Bilkisu, Fariha, Algaje, Aisha, Zaliha, Hafsa, Abba, Umma = family_members\n",
    "print('1: ')\n",
    "print(Sagir)\n",
    "print(Zaliha)\n",
    "print(Saifullahi)\n",
    "print(Usman)\n",
    "print('...')\n",
    "print(Umma)\n",
    "print(Abba)\n",
    "\n",
    "\n",
    "# 2. Create fruits, vegetables and animal products tuples. Join the three tuples and assign it to a variable called food_stuff_tp.\n",
    "fruits = ('apple', 'mango', 'orange')\n",
    "vegetables = ('onion', 'carrot', 'tomato',)\n",
    "animals = ('cow', 'sheep', 'goat')\n",
    "food_stuff_tp = fruits + vegetables + animals\n",
    "print('2. Food stuff tuple: ', food_stuff_tp)\n",
    "\n",
    "# 3. Change the about food_stuff_tp  tuple to a food_stuff_lt list\n",
    "food_stuff_lt = list(food_stuff_tp)\n",
    "print('3. Food stuff list: ', food_stuff_lt)\n",
    "\n",
    "# 4. Slice out the middle item or items from the food_stuff_tp tuple or food_stuff_lt list.\n",
    "middle_index = len(food_stuff_lt)//2\n",
    "# second_index= len(food_stuff_lt)//2 + 1\n",
    "middle_item = food_stuff_lt[middle_index]\n",
    "print('4. Middle item: ', middle_item)\n",
    "\n",
    "# 5. Slice out the first three items and the last three items from food_staff_lt list\n",
    "print('5:')\n",
    "print('i. First three: ', food_stuff_lt[:3])\n",
    "print('ii. last three: ', food_stuff_lt[-3:])\n",
    "\n",
    "# 6. Delete the food_staff_tp tuple completely\n",
    "del food_stuff_tp\n",
    "\n",
    "# 7. Check if an item exists in  tuple:\n",
    "nordic_countries = ('Denmark', 'Finland','Iceland', 'Norway', 'Sweden')\n",
    "# - Check if 'Estonia' is a nordic country\n",
    "print('7: ')\n",
    "if 'Estonia' in nordic_countries:\n",
    "    print('i. YES, Estonia is a nordic country')\n",
    "else:\n",
    "    print('i. NO, Estonia is not a nordic country')\n",
    "\n",
    "# - Check if 'Iceland' is a nordic country\n",
    "if 'Iceland' in nordic_countries:\n",
    "    print('ii. YES, Iceland is a nordic country')\n",
    "else:\n",
    "    print('ii. NO, Iceland is not a nordic country')"
   ]
  },
  {
   "cell_type": "code",
   "execution_count": null,
   "metadata": {},
   "outputs": [],
   "source": []
  }
 ],
 "metadata": {
  "kernelspec": {
   "display_name": "Python 3",
   "language": "python",
   "name": "python3"
  },
  "language_info": {
   "codemirror_mode": {
    "name": "ipython",
    "version": 3
   },
   "file_extension": ".py",
   "mimetype": "text/x-python",
   "name": "python",
   "nbconvert_exporter": "python",
   "pygments_lexer": "ipython3",
   "version": "3.10.12"
  }
 },
 "nbformat": 4,
 "nbformat_minor": 2
}
