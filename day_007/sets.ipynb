{
 "cells": [
  {
   "cell_type": "markdown",
   "metadata": {},
   "source": [
    "# 💻 Exercises: Day 7\n",
    "### Exercises: level 1"
   ]
  },
  {
   "cell_type": "code",
   "execution_count": 21,
   "metadata": {},
   "outputs": [
    {
     "name": "stdout",
     "output_type": "stream",
     "text": [
      "1. It companies length:  7\n",
      "2. twitter included:  {'Amazon', 'Apple', 'Microsoft', 'IBM', 'Google', 'Oracle', 'Twitter', 'Facebook'}\n",
      "3.  {'IBM', 'Oracle', 'Dell', 'Amazon', 'Microsoft', 'Google', 'Toshiba', 'Twitter', 'Facebook', 'Apple', 'LG'}\n",
      "4. removed_company:  IBM\n",
      "5a. {'Oracle', 'Dell', 'Amazon', 'Microsoft', 'Google', 'Toshiba', 'Twitter', 'Facebook', 'LG'}\n",
      "5b.  {'Oracle', 'Dell', 'Amazon', 'Microsoft', 'Google', 'Toshiba', 'Twitter', 'LG'}\n"
     ]
    }
   ],
   "source": [
    "# sets\n",
    "it_companies = {'Facebook', 'Google', 'Microsoft', 'Apple', 'IBM', 'Oracle', 'Amazon'}\n",
    "A = {19, 22, 24, 20, 25, 26}\n",
    "B = {19, 22, 20, 25, 26, 24, 28, 27}\n",
    "age = [22, 19, 24, 25, 26, 24, 25, 24]\n",
    "\n",
    "# 1. Find the length of the set it_companies\n",
    "it_companies_length = len(it_companies)\n",
    "print('1. It companies length: ', it_companies_length)\n",
    "\n",
    "# 2. Add 'Twitter' to it_companies\n",
    "twitter_included = it_companies.add('Twitter')\n",
    "print('2. twitter included: ', it_companies)\n",
    "\n",
    "# 3. Insert multiple IT companies at once to the set it_companies\n",
    "another_companies = ['Toshiba', 'LG', 'Dell']\n",
    "it_companies.update(another_companies)\n",
    "print('3. ', it_companies)\n",
    "\n",
    "# 4. Remove one of the companies from the set it_companies\n",
    "print('4. removed_company: ', it_companies.pop())\n",
    "\n",
    "# 5. What is the difference between remove and discard\n",
    "it_companies.remove('Apple') # return an error when found no item to remove\n",
    "print('5a.', it_companies)\n",
    "\n",
    "it_companies.discard('Facebook') #it does not return an error even if it did no find an item to remove\n",
    "print('5b. ', it_companies)"
   ]
  },
  {
   "cell_type": "markdown",
   "metadata": {},
   "source": [
    "### Exercises: level 2\n"
   ]
  },
  {
   "cell_type": "code",
   "execution_count": 32,
   "metadata": {},
   "outputs": [
    {
     "name": "stdout",
     "output_type": "stream",
     "text": [
      "1. Union:  {19, 20, 22, 24, 25, 26, 27, 28}\n",
      "2. Intersection:  {19, 20, 22, 24, 25, 26}\n",
      "3. Is A subset of B:  True\n",
      "4. Is A a disjoint of B:  False\n",
      "5. A A union B: {19, 20, 22, 24, 25, 26, 27, 28} and \n",
      " B union A: {19, 20, 22, 24, 25, 26, 27, 28}\n",
      "6. Symmetric difference between A and B is  {27, 28}\n"
     ]
    }
   ],
   "source": [
    "# 1. Join A and B\n",
    "C = A.union(B)\n",
    "print('1. Union: ', C)\n",
    "\n",
    "# 2. Find A intersection B\n",
    "C = A.intersection(B)\n",
    "print('2. Intersection: ', C)\n",
    "\n",
    "# 3. Is A a subset of B\n",
    "C = A.issubset(B)\n",
    "print('3. Is A subset of B: ', C)\n",
    "\n",
    "# 4. Are A and B disjoint sets\n",
    "C = A.isdisjoint(B)\n",
    "print('4. Is A a disjoint of B: ', C)\n",
    "# 5. Join A with B and B with A\n",
    "C = A.union(B)\n",
    "D = A.union(B)\n",
    "print(f'5. A A union B: {C} and \\n B union A: {D}' )\n",
    "\n",
    "# 6. What is the symmetric difference between A and B\n",
    "C = A.symmetric_difference(B)\n",
    "print('6. Symmetric difference between A and B is ', C)\n",
    "# 7. Delete the sets completely\n",
    "del A\n",
    "del B"
   ]
  },
  {
   "cell_type": "markdown",
   "metadata": {},
   "source": [
    "### Exercises: level 3"
   ]
  },
  {
   "cell_type": "code",
   "execution_count": 42,
   "metadata": {},
   "outputs": [
    {
     "name": "stdout",
     "output_type": "stream",
     "text": [
      "Set of age:; {19, 22, 24, 25, 26}\n",
      "List of age:; [22, 19, 24, 25, 26, 24, 25, 24]\n",
      "1. List of age is greater than set of age\n",
      "2. Explain in below markdown\n",
      "3. Unique words are:  {'people', 'love', 'and', 'a', 'I', 'teach', 'am', 'to', 'teacher', 'inspire'}\n"
     ]
    }
   ],
   "source": [
    "# 1. Convert the ages to a set and compare the length of the list and the set, which one is bigger?\n",
    "age_set = set(age) \n",
    "if len(age) > len(age_set):\n",
    "    print('Set of age:;', age_set)\n",
    "    print('List of age:;', age)\n",
    "    print('1. List of age is greater than set of age')\n",
    "elif len(age) < len(age_set):\n",
    "    print('2. Set of age is greater than list of age')\n",
    "else:\n",
    "    print('1. Set of age is equal to list of age')\n",
    "\n",
    "# 2. Explain the difference between the following data types: string, list, tuple and set\n",
    "print('2. Explain in below markdown')\n",
    "\n",
    "# 3. I am a teacher and I love to inspire and teach people. \n",
    "# How many unique words have been used in the sentence? \n",
    "# Use the split methods and set to get the unique words.\n",
    "\n",
    "sentence = 'I am a teacher and I love to inspire and teach people'\n",
    "splited_sentence = sentence.split()\n",
    "unique_words = set(splited_sentence)\n",
    "print('3. Unique words are: ', unique_words)\n"
   ]
  },
  {
   "cell_type": "markdown",
   "metadata": {},
   "source": [
    "# 2. Explain the difference between the following data types: string, list, tuple and set\n",
    "\n",
    "\n",
    "### 1. String:\n",
    "\n",
    "- A string is a sequence of characters enclosed within single quotes (' '), double quotes (\" \"), or triple quotes (\"\"\" \"\"\").\n",
    "- Strings are immutable, meaning their elements cannot be changed once created.\n",
    "- They support various string-specific operations like concatenation (+), slicing ([]), and string methods for manipulation.\n",
    "- Example: **my_string = 'ArewaDS'**\n",
    "\n",
    "### 2. List:\n",
    "\n",
    "- A list is an ordered and mutable collection of elements enclosed within square brackets [ ].\n",
    "- Lists can contain elements of different data types and allow duplicates.\n",
    "- They support various operations like appending, removing, slicing, and modifying elements.\n",
    "- Example: __my_list = [1, 'apple', True, 3.14]__\n",
    "\n",
    "### 3. Tuple:\n",
    "\n",
    "* A tuple is an ordered and immutable collection of elements enclosed within parentheses ( ).\n",
    "* Tuples can contain elements of different data types and allow duplicates.\n",
    "* They are similar to lists but cannot be changed once created (immutable).\n",
    "* Example: **my_tuple = (1, 'banana', False, 2.71)**\n",
    "### 4. Set:\n",
    "\n",
    "- A set is an unordered and mutable collection of unique elements enclosed within curly braces { }.\n",
    "- Sets do not allow duplicate elements and automatically eliminate them.\n",
    "- They support set operations like union, intersection, difference, and more.\n",
    "- Example: __my_set = {1, 2, 3, 4}__\n",
    "\n",
    "### Key Differences:\n",
    "\n",
    "- Strings are sequences of characters and are immutable.\n",
    "- Lists are ordered, mutable, and can contain duplicates.\n",
    "- Tuples are ordered but immutable; they can contain duplicates.\n",
    "- Sets are unordered, mutable, and contain only unique elements; they don't maintain order and do not allow duplicates."
   ]
  }
 ],
 "metadata": {
  "kernelspec": {
   "display_name": "Python 3",
   "language": "python",
   "name": "python3"
  },
  "language_info": {
   "codemirror_mode": {
    "name": "ipython",
    "version": 3
   },
   "file_extension": ".py",
   "mimetype": "text/x-python",
   "name": "python",
   "nbconvert_exporter": "python",
   "pygments_lexer": "ipython3",
   "version": "3.10.12"
  }
 },
 "nbformat": 4,
 "nbformat_minor": 2
}
