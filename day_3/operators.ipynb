{
 "cells": [
  {
   "cell_type": "markdown",
   "metadata": {},
   "source": [
    "# 💻 Exercises - Day 3"
   ]
  },
  {
   "cell_type": "markdown",
   "metadata": {},
   "source": [
    "#### 1. Declare your age as integer variable\n",
    "#### 2. Declare your height as a float variable\n",
    "#### 3. Declare a variable that store a complex number\n",
    "\n",
    "\n"
   ]
  },
  {
   "cell_type": "code",
   "execution_count": 5,
   "metadata": {},
   "outputs": [],
   "source": [
    "my_age = 30\n",
    "my_height = 1.6\n",
    "complex_number = 1+ 3j"
   ]
  },
  {
   "cell_type": "markdown",
   "metadata": {},
   "source": [
    "#### 4. Write a script that prompts the user to enter base and height of the triangle and calculate an area of this triangle (area = 0.5 x b x h).\n"
   ]
  },
  {
   "cell_type": "code",
   "execution_count": 12,
   "metadata": {},
   "outputs": [
    {
     "name": "stdout",
     "output_type": "stream",
     "text": [
      "The area of the triangle is 100\n"
     ]
    }
   ],
   "source": [
    "\n",
    "base = int(input('Enter the base:'))\n",
    "\n",
    "height = int(input('Enter the height:'))\n",
    "\n",
    "area_of_triangle = int(0.5 * base * height)\n",
    "\n",
    "print('The area of the triangle is', area_of_triangle)"
   ]
  },
  {
   "cell_type": "markdown",
   "metadata": {},
   "source": [
    "#### 5. Write a script that prompts the user to enter side a, side b, and side c of the triangle. Calculate the perimeter of the triangle (perimeter = a + b + c).\n"
   ]
  },
  {
   "cell_type": "code",
   "execution_count": 14,
   "metadata": {},
   "outputs": [
    {
     "name": "stdout",
     "output_type": "stream",
     "text": [
      "The perimeter of the triangle is 9\n"
     ]
    }
   ],
   "source": [
    "\n",
    "a = int(input('Enter side_a:'))\n",
    "b = int(input('Enter side_b:'))\n",
    "c = int(input('Enter side_c:'))\n",
    "\n",
    "triangle_perimeter = a + b + c\n",
    "print('The perimeter of the triangle is', triangle_perimeter)"
   ]
  },
  {
   "cell_type": "markdown",
   "metadata": {},
   "source": [
    "#### 6. Get length and width of a rectangle using prompt. Calculate its area (area = length x width) and perimeter (perimeter = 2 x (length + width))\n"
   ]
  },
  {
   "cell_type": "code",
   "execution_count": 15,
   "metadata": {},
   "outputs": [
    {
     "name": "stdout",
     "output_type": "stream",
     "text": [
      "Area of rectangle is 24.0\n",
      "Perimeter of rectangle is 28.0\n"
     ]
    }
   ],
   "source": [
    "\n",
    "length = float(input('Enter the length:'))\n",
    "width = float(input('Enter the width:'))\n",
    "\n",
    "rectangle_area = length * width\n",
    "rectangle_perimeter = 2 * (length + width)\n",
    "\n",
    "print('Area of rectangle is', rectangle_area)\n",
    "print('Perimeter of rectangle is', rectangle_perimeter)"
   ]
  },
  {
   "cell_type": "markdown",
   "metadata": {},
   "source": [
    "#### 7. Get radius of a circle using prompt. Calculate the area (area = pi x r x r) and circumference (c = 2 x pi x r) where pi = 3.14.\n"
   ]
  },
  {
   "cell_type": "code",
   "execution_count": 17,
   "metadata": {},
   "outputs": [
    {
     "name": "stdout",
     "output_type": "stream",
     "text": [
      "Area of circle is 28.259999999999998\n",
      "Circumference of circle is 18.84\n"
     ]
    }
   ],
   "source": [
    "\n",
    "r = float(input('Enter the radius:'))\n",
    "pi = 3.14\n",
    "\n",
    "circle_area = pi * r*r\n",
    "circle_circumference = 2 * pi * r\n",
    "print('Area of circle is', circle_area)\n",
    "print('Circumference of circle is', circle_circumference)"
   ]
  },
  {
   "cell_type": "markdown",
   "metadata": {},
   "source": [
    "#### 8. Calculate the slope, x-intercept and y-intercept of y = 2x -2\n"
   ]
  },
  {
   "cell_type": "code",
   "execution_count": 16,
   "metadata": {},
   "outputs": [
    {
     "name": "stdout",
     "output_type": "stream",
     "text": [
      "Slope: 2\n",
      "Y-intercept: -2\n",
      "X-intercept: 1.0\n"
     ]
    }
   ],
   "source": [
    "# Equation parameters\n",
    "slope = 2\n",
    "y_intercept = -2\n",
    "\n",
    "# Calculate x-intercept\n",
    "x_intercept = -y_intercept / slope\n",
    "\n",
    "# Display results\n",
    "print(f\"Slope: {slope}\")\n",
    "print(f\"Y-intercept: {y_intercept}\")\n",
    "print(f\"X-intercept: {x_intercept}\")"
   ]
  },
  {
   "cell_type": "markdown",
   "metadata": {},
   "source": [
    "#### 9. Slope is (m = y2-y1/x2-x1). Find the slope and [Euclidean distance] between point (2, 2) and point (6,10)\n"
   ]
  },
  {
   "cell_type": "code",
   "execution_count": 18,
   "metadata": {},
   "outputs": [
    {
     "name": "stdout",
     "output_type": "stream",
     "text": [
      "Slope between the points: 2.0\n",
      "Euclidean distance between the points: 8.94427190999916\n"
     ]
    }
   ],
   "source": [
    "import math\n",
    "\n",
    "# Coordinates of the points\n",
    "x1, y1 = 2, 2\n",
    "x2, y2 = 6, 10\n",
    "\n",
    "# Calculate the slope\n",
    "slope = (y2 - y1) / (x2 - x1)\n",
    "\n",
    "# Calculate the Euclidean distance\n",
    "distance = math.sqrt((x2 - x1)**2 + (y2 - y1)**2)\n",
    "\n",
    "print(f\"Slope between the points: {slope}\")\n",
    "print(f\"Euclidean distance between the points: {distance}\")"
   ]
  },
  {
   "cell_type": "markdown",
   "metadata": {},
   "source": [
    "#### 10. Compare the slopes in tasks 8 and 9.\n"
   ]
  },
  {
   "cell_type": "code",
   "execution_count": 19,
   "metadata": {},
   "outputs": [
    {
     "name": "stdout",
     "output_type": "stream",
     "text": [
      "The given slope and the calculated slope are equal.\n"
     ]
    }
   ],
   "source": [
    "# Given slopes\n",
    "given_slope = 2\n",
    "calculated_slope = 2.0  # Slope between the points (2, 2) and (6, 10)\n",
    "\n",
    "# Compare the slopes\n",
    "if given_slope == calculated_slope:\n",
    "    print(\"The given slope and the calculated slope are equal.\")\n",
    "else:\n",
    "    print(\"The given slope and the calculated slope are not equal.\")"
   ]
  },
  {
   "cell_type": "markdown",
   "metadata": {},
   "source": [
    "#### 11. Calculate the value of y (y = x^2 + 6x + 9). Try to use different x values and figure out at what x value y is going to be 0.\n"
   ]
  },
  {
   "cell_type": "code",
   "execution_count": 21,
   "metadata": {},
   "outputs": [
    {
     "name": "stdout",
     "output_type": "stream",
     "text": [
      "x = -5, y = 4\n",
      "x = -4, y = 1\n",
      "x = -3, y = 0\n",
      "x = -2, y = 1\n",
      "x = -1, y = 4\n",
      "x = 0, y = 9\n",
      "x = 1, y = 16\n",
      "x = 2, y = 25\n",
      "x = 3, y = 36\n",
      "x = 4, y = 49\n",
      "x = 5, y = 64\n",
      "\n",
      "For y = 0, x = -3, y = 0\n"
     ]
    }
   ],
   "source": [
    "# Function to calculate y for a given x in the equation y = x^2 + 6x + 9\n",
    "def calculate_y(x):\n",
    "    return x**2 + 6*x + 9\n",
    "\n",
    "# Test different x values and calculate corresponding y values\n",
    "x_values = [-5, -4, -3, -2, -1, 0, 1, 2, 3, 4, 5]\n",
    "\n",
    "for x in x_values:\n",
    "    y = calculate_y(x)\n",
    "    print(f\"x = {x}, y = {y}\")\n",
    "\n",
    "# Find the x value where y is 0\n",
    "x_for_zero_y = -3\n",
    "y_for_zero_x = calculate_y(x_for_zero_y)\n",
    "\n",
    "print(f\"\\nFor y = 0, x = {x_for_zero_y}, y = {y_for_zero_x}\")\n",
    "\n",
    "\n"
   ]
  },
  {
   "cell_type": "markdown",
   "metadata": {},
   "source": [
    "#### 12. Find the length of 'python' and 'dragon' and make a falsy comparison statement.\n"
   ]
  },
  {
   "cell_type": "code",
   "execution_count": 26,
   "metadata": {},
   "outputs": [
    {
     "name": "stdout",
     "output_type": "stream",
     "text": [
      "Length of 'python': 6\n",
      "Length of 'dragon': 6\n",
      "'dragon' is longer than or equal to 'python'.\n"
     ]
    }
   ],
   "source": [
    "# Length of the strings\n",
    "length_python = len('python')\n",
    "length_dragon = len('dragon')\n",
    "\n",
    "# Falsy comparison statement\n",
    "falsy_comparison = length_python > length_dragon\n",
    "\n",
    "# Display the lengths and the falsy comparison statement\n",
    "print(f\"Length of 'python': {length_python}\")\n",
    "print(f\"Length of 'dragon': {length_dragon}\")\n",
    "\n",
    "if falsy_comparison:\n",
    "    print(\"'python' is longer than 'dragon'.\")\n",
    "else:\n",
    "    print(\"'dragon' is longer than or equal to 'python'.\")\n"
   ]
  },
  {
   "cell_type": "markdown",
   "metadata": {},
   "source": [
    "#### 13. Use _and_ operator to check if 'on' is found in both 'python' and 'dragon'\n"
   ]
  },
  {
   "cell_type": "code",
   "execution_count": 25,
   "metadata": {},
   "outputs": [
    {
     "name": "stdout",
     "output_type": "stream",
     "text": [
      "on in python: True\n",
      "on in dragon: True\n"
     ]
    }
   ],
   "source": [
    "print('on in python:', 'on' in 'python')\n",
    "print('on in dragon:', 'on' in 'dragon')"
   ]
  },
  {
   "cell_type": "markdown",
   "metadata": {},
   "source": [
    "#### 14. I hope this course is not full of jargon. Use in operator to check if jargon is in the sentence.\n"
   ]
  },
  {
   "cell_type": "code",
   "execution_count": 28,
   "metadata": {},
   "outputs": [
    {
     "name": "stdout",
     "output_type": "stream",
     "text": [
      "jagon in 'I hope this course is not full of jagon:' True\n"
     ]
    }
   ],
   "source": [
    "print(\"jagon in 'I hope this course is not full of jagon:'\", 'jagon' in 'I hope this course is not full of jagon')"
   ]
  },
  {
   "cell_type": "markdown",
   "metadata": {},
   "source": [
    "#### 15. There is no 'on' in both dragon and python\n"
   ]
  },
  {
   "cell_type": "code",
   "execution_count": 18,
   "metadata": {},
   "outputs": [
    {
     "name": "stdout",
     "output_type": "stream",
     "text": [
      "there is no 'on' in python: False\n",
      "there is no 'on' in dragon: False\n"
     ]
    }
   ],
   "source": [
    "print(\"there is no 'on' in python:\", 'on' not in 'python')\n",
    "print(\"there is no 'on' in dragon:\", 'on' not in 'dragon')"
   ]
  },
  {
   "cell_type": "markdown",
   "metadata": {},
   "source": [
    "#### 16. Find the length of the text python and convert the value to float and convert it to string\n"
   ]
  },
  {
   "cell_type": "code",
   "execution_count": 19,
   "metadata": {},
   "outputs": [
    {
     "name": "stdout",
     "output_type": "stream",
     "text": [
      "Length of python is 6\n",
      "Length of python to float is 6.0\n",
      "Length of python to string is 6\n"
     ]
    }
   ],
   "source": [
    "python_length = len('python')\n",
    "print('Length of python is', python_length)\n",
    "\n",
    "# to float\n",
    "to_float = float(python_length)\n",
    "print('Length of python to float is', to_float)\n",
    "\n",
    "# to string\n",
    "to_string = str(python_length)\n",
    "print('Length of python to string is', to_string)"
   ]
  },
  {
   "cell_type": "markdown",
   "metadata": {},
   "source": [
    "#### 17. Even numbers are divisible by 2 and the remainder is zero. How do you check if a number is even or not using python?\n"
   ]
  },
  {
   "cell_type": "code",
   "execution_count": 36,
   "metadata": {},
   "outputs": [
    {
     "name": "stdout",
     "output_type": "stream",
     "text": [
      "The number is not even: 5\n"
     ]
    }
   ],
   "source": [
    "\n",
    "num = int(input('Enter a number:'))\n",
    "\n",
    "# checking for the number\n",
    "if num % 2 == 0:\n",
    "    print('The number is even:', num)\n",
    "else:\n",
    "    print('The number is not even:', num)"
   ]
  },
  {
   "cell_type": "markdown",
   "metadata": {},
   "source": [
    "#### 18. Check if the floor division of 7 by 3 is equal to the int converted value of 2.7."
   ]
  },
  {
   "cell_type": "code",
   "execution_count": 43,
   "metadata": {},
   "outputs": [
    {
     "name": "stdout",
     "output_type": "stream",
     "text": [
      "Yes! they are equal\n"
     ]
    }
   ],
   "source": [
    "# converting to intiger\n",
    "int_converted_value = int(2.7)\n",
    "\n",
    "# condition checking\n",
    "if 7//3 == int_converted_value:\n",
    "    print('Yes! they are equal')\n",
    "else:\n",
    "    print('No! they are not equal')\n"
   ]
  },
  {
   "cell_type": "markdown",
   "metadata": {},
   "source": [
    "#### 19. Check if type of '10' is equal to type of 10"
   ]
  },
  {
   "cell_type": "code",
   "execution_count": 3,
   "metadata": {},
   "outputs": [
    {
     "name": "stdout",
     "output_type": "stream",
     "text": [
      "'10' is equal to 10 is  False\n"
     ]
    }
   ],
   "source": [
    "print(\"'10' is equal to 10 is \", type('10') == type(10))"
   ]
  },
  {
   "cell_type": "markdown",
   "metadata": {},
   "source": [
    "#### 20. Check if int('9.8') is equal to 10"
   ]
  },
  {
   "cell_type": "code",
   "execution_count": 57,
   "metadata": {},
   "outputs": [
    {
     "name": "stdout",
     "output_type": "stream",
     "text": [
      "The rounded number is equal to 10.\n"
     ]
    }
   ],
   "source": [
    "string_number = '9.8'\n",
    "\n",
    "try:\n",
    "    float_number = float(string_number)\n",
    "    rounded_number = round(float_number)\n",
    "\n",
    "    if rounded_number == 10:\n",
    "        print(\"The rounded number is equal to 10.\")\n",
    "    else:\n",
    "        print(\"The rounded number is not equal to 10.\")\n",
    "except ValueError:\n",
    "    print(\"Conversion to float failed. Please provide a valid number string.\")\n"
   ]
  },
  {
   "cell_type": "markdown",
   "metadata": {},
   "source": [
    "#### 21. Write a script that prompts the user to enter hours and rate per hour. Calculate pay of the person?\n"
   ]
  },
  {
   "cell_type": "code",
   "execution_count": 51,
   "metadata": {},
   "outputs": [
    {
     "name": "stdout",
     "output_type": "stream",
     "text": [
      "Hours is 23\n",
      "Rate per hour is 43\n",
      "Your weekly earning is 989\n"
     ]
    }
   ],
   "source": [
    "hours = int(input('Enter hours:'))\n",
    "rate_per_hour = int(input('Enter rate per hour:'))\n",
    "\n",
    "pay_of_the_person = hours * rate_per_hour\n",
    "print('Hours is', hours)\n",
    "print('Rate per hour is', rate_per_hour)\n",
    "print('Your weekly earning is', pay_of_the_person)"
   ]
  },
  {
   "cell_type": "markdown",
   "metadata": {},
   "source": [
    "#### 22. Write a script that prompts the user to enter number of years. Calculate the number of seconds a person can live. Assume a person can live hundred years"
   ]
  },
  {
   "cell_type": "code",
   "execution_count": 56,
   "metadata": {},
   "outputs": [
    {
     "name": "stdout",
     "output_type": "stream",
     "text": [
      "Years you have lived: 100\n",
      "You have lived for 3153600000 seconds\n"
     ]
    }
   ],
   "source": [
    "years = int(input('Enter number of years you have lived:'))\n",
    "years_to_seconds = years * 365 * 24 * 60 * 60\n",
    "print('Years you have lived:', years)\n",
    "print(f'You have lived for {years_to_seconds} seconds')"
   ]
  },
  {
   "cell_type": "markdown",
   "metadata": {},
   "source": [
    "#### 23. Write a Python script that displays the following table"
   ]
  },
  {
   "cell_type": "code",
   "execution_count": 58,
   "metadata": {},
   "outputs": [
    {
     "name": "stdout",
     "output_type": "stream",
     "text": [
      "1 1 1 1 1\n",
      "2 1 2 4 8\n",
      "3 1 3 9 27\n",
      "4 1 4 16 64\n",
      "5 1 5 25 125\n"
     ]
    }
   ],
   "source": [
    "# Function to calculate powers\n",
    "def calculate_power(base, exponent):\n",
    "    return base ** exponent\n",
    "\n",
    "# Display the table\n",
    "print(\"1 1 1 1 1\")\n",
    "\n",
    "for i in range(2, 6):\n",
    "    print(f\"{i} 1 {i} {calculate_power(i, 2)} {calculate_power(i, 3)}\")\n"
   ]
  }
 ],
 "metadata": {
  "kernelspec": {
   "display_name": "Python 3",
   "language": "python",
   "name": "python3"
  },
  "language_info": {
   "codemirror_mode": {
    "name": "ipython",
    "version": 3
   },
   "file_extension": ".py",
   "mimetype": "text/x-python",
   "name": "python",
   "nbconvert_exporter": "python",
   "pygments_lexer": "ipython3",
   "version": "3.10.12"
  }
 },
 "nbformat": 4,
 "nbformat_minor": 2
}
