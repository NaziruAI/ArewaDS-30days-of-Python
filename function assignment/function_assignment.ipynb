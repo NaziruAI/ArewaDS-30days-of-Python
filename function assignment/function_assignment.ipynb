{
 "cells": [
  {
   "cell_type": "markdown",
   "metadata": {},
   "source": [
    "### chapter 8: Functions exercides"
   ]
  },
  {
   "cell_type": "code",
   "execution_count": 6,
   "metadata": {},
   "outputs": [
    {
     "name": "stdout",
     "output_type": "stream",
     "text": [
      "what you are learning about in this chapter.\n"
     ]
    }
   ],
   "source": [
    "# 8-1\n",
    "\n",
    "def message():\n",
    "    \"\"\"printing text\"\"\"\n",
    "    print('what you are learning about in this chapter.')\n",
    "\n",
    "message()"
   ]
  },
  {
   "cell_type": "code",
   "execution_count": 1,
   "metadata": {},
   "outputs": [
    {
     "name": "stdout",
     "output_type": "stream",
     "text": [
      "One of my favorite books is Alice in wonderland\n",
      "One of my favorite books is English for learners\n"
     ]
    }
   ],
   "source": [
    "# 8-2\n",
    "\n",
    "def favorite_book(title):\n",
    "    \"\"\"to pront the text by passing an argument\"\"\"\n",
    "    \n",
    "    print(f'One of my favorite books is {title.capitalize()}')\n",
    "\n",
    "favorite_book('alice in wonderland')\n",
    "favorite_book('english for learners')"
   ]
  },
  {
   "cell_type": "code",
   "execution_count": 4,
   "metadata": {},
   "outputs": [
    {
     "name": "stdout",
     "output_type": "stream",
     "text": [
      "The T-shirt size is XL with text of VODAFONE\n",
      "The T-shirt size is SM with text of MILLAINIOM\n"
     ]
    }
   ],
   "source": [
    "# 8-3\n",
    "\n",
    "def make_shirt(size, text_printed):\n",
    "    \"\"\"to pront the text by passing an arguments to parameters\"\"\"\n",
    "\n",
    "    print(f'The T-shirt size is {size.upper()} with text of {text_printed.upper()}')\n",
    "\n",
    "make_shirt('xl', 'vodafone')\n",
    "make_shirt(text_printed='millainiom', size='sm')"
   ]
  },
  {
   "cell_type": "code",
   "execution_count": 12,
   "metadata": {},
   "outputs": [
    {
     "name": "stdout",
     "output_type": "stream",
     "text": [
      "I am a large Shirt and I love Python.\n",
      "I am a medium Shirt and I love Python.\n",
      "I am a small Shirt and I love Coding.\n"
     ]
    }
   ],
   "source": [
    "# 8-4\n",
    "\n",
    "def make_shirt(text_printed, size='large'):\n",
    "    print(f'I am a {size} Shirt and {text_printed}')\n",
    "\n",
    "make_shirt('I love Python.')\n",
    "make_shirt('I love Python.', size='medium')\n",
    "make_shirt('I love Coding.', size='small')\n"
   ]
  },
  {
   "cell_type": "code",
   "execution_count": 17,
   "metadata": {},
   "outputs": [
    {
     "name": "stdout",
     "output_type": "stream",
     "text": [
      "Kano is in Nigeria\n",
      "Jigawa is in Nigeria\n",
      "Akra is in Chana\n"
     ]
    }
   ],
   "source": [
    "# 8-5\n",
    "\n",
    "def describe_city(city, country = 'nigeria'):\n",
    "    print(f'{city.capitalize()} is in {country.capitalize()}')\n",
    "\n",
    "describe_city('Kano')\n",
    "describe_city('Jigawa')\n",
    "describe_city('akra', 'chana')\n"
   ]
  },
  {
   "cell_type": "code",
   "execution_count": 13,
   "metadata": {},
   "outputs": [
    {
     "name": "stdout",
     "output_type": "stream",
     "text": [
      "\"Kano, Nigeria\"\n",
      "\"Akra, Chana\"\n",
      "\"New York, America\"\n"
     ]
    }
   ],
   "source": [
    "# 8-6\n",
    "\n",
    "def city_country(city, country):\n",
    "    \"\"\"function to return a processed value\"\"\"\n",
    "    \n",
    "    city_country = f'\"{city}, {country}\"'\n",
    "    return city_country.title()\n",
    "\n",
    "print(city_country('kano', 'nigeria'))\n",
    "print(city_country('akra', 'chana'))\n",
    "print(city_country('new york', 'america'))"
   ]
  },
  {
   "cell_type": "code",
   "execution_count": 13,
   "metadata": {},
   "outputs": [
    {
     "name": "stdout",
     "output_type": "stream",
     "text": [
      "{'name': 'artist1', 'title': 'album1', 'songs_no': 'None'}\n",
      "{'name': 'artist1', 'title': 'album2', 'songs_no': 'None'}\n",
      "{'name': 'artist1', 'title': 'album3', 'songs_no': 24}\n"
     ]
    }
   ],
   "source": [
    "# 8-7\n",
    "\n",
    "def make_album(artist_name, album_title, nums='None'):\n",
    "    \"\"\"function to return a processed value\"\"\"\n",
    "\n",
    "    album = {'name': artist_name, 'title': album_title}\n",
    "    if nums:\n",
    "        album['songs_no'] = nums\n",
    "    return album\n",
    "album1 = make_album('artist1', 'album1')\n",
    "album2 = make_album('artist1', 'album2')\n",
    "album3 = make_album('artist1', 'album3', 24)\n",
    "\n",
    "print(album1)\n",
    "print(album2)\n",
    "print(album3)\n"
   ]
  },
  {
   "cell_type": "code",
   "execution_count": 32,
   "metadata": {},
   "outputs": [
    {
     "name": "stdout",
     "output_type": "stream",
     "text": [
      "{'artist': 'artist1', 'title': 'album1', 'songs_no': 'None'}\n",
      "{'artist': 'artist1', 'title': 'album2', 'songs_no': 'None'}\n",
      "{'artist': 'artist1', 'title': 'album3', 'songs_no': 24}\n",
      "\n",
      "Enter 'q' at any time to quit.\n",
      "{'artist': 'Alan Waka', 'title': 'Jamia'}\n",
      "\n",
      "Enter 'q' at any time to quit.\n",
      "{'artist': 'Sarkin Waka', 'title': 'Sardaunan Dutse'}\n",
      "\n",
      "Enter 'q' at any time to quit.\n"
     ]
    }
   ],
   "source": [
    "# 8-8\n",
    "\n",
    "def make_album(artist_name, album_title, nums='None'):\n",
    "    album = {'artist': artist_name, 'title': album_title}\n",
    "    if nums:\n",
    "        album['songs_no'] = nums\n",
    "    return album\n",
    "album1 = make_album('artist1', 'album1')\n",
    "album2 = make_album('artist1', 'album2')\n",
    "album3 = make_album('artist1', 'album3', 24)\n",
    "\n",
    "print(album1)\n",
    "print(album2)\n",
    "print(album3)\n",
    "\n",
    "\n",
    "while True:\n",
    "    print(\"\\nEnter 'q' at any time to quit.\")\n",
    "    artist = input(\"Enter the artist's name: \").title()\n",
    "    if artist.lower() == 'q':\n",
    "        break\n",
    "    \n",
    "    title = input(\"Enter the album's title: \").title()\n",
    "    if title.lower() == 'q':\n",
    "        break\n",
    "    \n",
    "    user_album = make_album(artist, title, songs)\n",
    "    print(user_album)"
   ]
  },
  {
   "cell_type": "code",
   "execution_count": 10,
   "metadata": {},
   "outputs": [
    {
     "name": "stdout",
     "output_type": "stream",
     "text": [
      "Good Morning\n",
      "Good Evening\n",
      "Good Night\n",
      "Good Bye\n",
      "Safe Journey\n"
     ]
    }
   ],
   "source": [
    "# 8-9\n",
    "\n",
    "messages = ['good morning', 'good evening', 'good night', 'good bye', 'safe journey']\n",
    "def show_messages(greetings):\n",
    "    for greeting in greetings:\n",
    "        print(greeting.title())\n",
    "\n",
    "show_messages(messages)"
   ]
  },
  {
   "cell_type": "code",
   "execution_count": 32,
   "metadata": {},
   "outputs": [
    {
     "name": "stdout",
     "output_type": "stream",
     "text": [
      "messaging:  safe journey\n",
      "messaging:  good bye\n",
      "messaging:  good night\n",
      "messaging:  good evening\n",
      "messaging:  good morning\n",
      "\n",
      " Sent_messages are: \n",
      "[]\n",
      "Safe Journey\n",
      "Good Bye\n",
      "Good Night\n",
      "Good Evening\n",
      "Good Morning\n"
     ]
    }
   ],
   "source": [
    "# 8-10\n",
    "\n",
    "messages = ['good morning', 'good evening', 'good night', 'good bye', 'safe journey']\n",
    "sent_messages = []\n",
    "\n",
    "def send_messages(messages, sent_messages):\n",
    "    while messages:\n",
    "        messaging = messages.pop()\n",
    "        sent_messages.append(messaging)\n",
    "        print('messaging: ', messaging)\n",
    "\n",
    "\n",
    "\n",
    "def show_messages(sent_messages):\n",
    "    for sent_message in sent_messages:\n",
    "        print(sent_message.title())\n",
    "\n",
    "\n",
    "send_messages(messages, sent_messages)\n",
    "print('\\n Sent_messages are: ')\n",
    "\n",
    "show_messages(sent_messages)\n",
    "\n"
   ]
  },
  {
   "cell_type": "code",
   "execution_count": 39,
   "metadata": {},
   "outputs": [
    {
     "name": "stdout",
     "output_type": "stream",
     "text": [
      "messaging:  safe journey\n",
      "messaging:  good bye\n",
      "messaging:  good night\n",
      "messaging:  good evening\n",
      "messaging:  good morning\n",
      "\n",
      " SENT_MESSAGES ARE: \n",
      "Safe Journey\n",
      "Good Bye\n",
      "Good Night\n",
      "Good Evening\n",
      "Good Morning\n",
      "\n",
      "Original messages:  ['good morning', 'good evening', 'good night', 'good bye', 'safe journey']\n"
     ]
    }
   ],
   "source": [
    "# 8-11\n",
    "\n",
    "messages = ['good morning', 'good evening', 'good night', 'good bye', 'safe journey']\n",
    "sent_messages = []\n",
    "\n",
    "def send_messages(messages, sent_messages):\n",
    "    while messages:\n",
    "        messaging = messages.pop()\n",
    "        sent_messages.append(messaging)\n",
    "        print('messaging: ', messaging)\n",
    "\n",
    "\n",
    "\n",
    "def show_messages(sent_messages):\n",
    "    for sent_message in sent_messages:\n",
    "        print(sent_message.title())\n",
    "\n",
    "\n",
    "send_messages(messages[:], sent_messages)\n",
    "print('\\n Sent_messages are: '.upper())\n",
    "show_messages(sent_messages)\n",
    "print()\n",
    "\n",
    "print('Original messages: ', messages)\n",
    "\n"
   ]
  },
  {
   "cell_type": "code",
   "execution_count": 5,
   "metadata": {},
   "outputs": [
    {
     "name": "stdout",
     "output_type": "stream",
     "text": [
      "Sandwiches ordered: \n",
      " ('samosa', 'chifs', 'chinchin')\n",
      "Sandwiches ordered: \n",
      " ('chikens', 'meat five', 'yanbose')\n",
      "Sandwiches ordered: \n",
      " ('bakilawa', 'alkaki', 'dubulan')\n"
     ]
    }
   ],
   "source": [
    "# 8-12\n",
    "\n",
    "def sandwiches(*items):\n",
    "    print(f'Sandwiches ordered: \\n {items}')\n",
    "\n",
    "sandwiches('samosa', 'chifs', 'chinchin')\n",
    "sandwiches('chikens', 'meat five', 'yanbose')\n",
    "sandwiches('bakilawa', 'alkaki', 'dubulan')"
   ]
  },
  {
   "cell_type": "code",
   "execution_count": 12,
   "metadata": {},
   "outputs": [
    {
     "name": "stdout",
     "output_type": "stream",
     "text": [
      "{'age': 30, 'gender': 'male', 'first_name': 'Naziru', 'last_name': 'Abdussalam'}\n",
      "{'skills': 'python', 'address': 'Nigeria', 'first_name': 'Naziru', 'last_name': 'Abdussalam'}\n",
      "{'is_married': True, 'hobbies': 'reading and sports', 'first_name': 'Naziru', 'last_name': 'Abdussalam'}\n"
     ]
    }
   ],
   "source": [
    "# 8-13\n",
    "\n",
    "def build_profile(first, last, **user_info):\n",
    "    \"\"\"Build a dictionary containing everything we know about a user.\"\"\"\n",
    "\n",
    "    user_info['first_name'] = first\n",
    "    user_info['last_name'] = last\n",
    "    return user_info\n",
    "my_profile1 = build_profile('Naziru', 'Abdussalam',\n",
    "                        age = 30,\n",
    "                        gender = 'male',)\n",
    "my_profile2 = build_profile('Naziru', 'Abdussalam',\n",
    "                        skills = 'python',\n",
    "                        address='Nigeria')\n",
    "my_profile3 = build_profile('Naziru', 'Abdussalam',\n",
    "                        is_married = True,\n",
    "                        hobbies = 'reading and sports')\n",
    "print(my_profile1)\n",
    "print(my_profile2)\n",
    "print(my_profile3)"
   ]
  },
  {
   "cell_type": "code",
   "execution_count": 14,
   "metadata": {},
   "outputs": [
    {
     "name": "stdout",
     "output_type": "stream",
     "text": [
      "{'color': 'blue', 'tow_package': True, 'manufacturer': 'subaru', 'model': 'outback'}\n"
     ]
    }
   ],
   "source": [
    "# 8-14\n",
    "\n",
    "def make_car(manufacturer, model, **car_info):\n",
    "    car_info['manufacturer'] = manufacturer\n",
    "    car_info['model'] = model\n",
    "    return car_info\n",
    "\n",
    "car = make_car('subaru', 'outback', color='blue', tow_package=True)\n",
    "\n",
    "print(car)"
   ]
  },
  {
   "cell_type": "code",
   "execution_count": 23,
   "metadata": {},
   "outputs": [
    {
     "name": "stdout",
     "output_type": "stream",
     "text": [
      "Printing model: dodecahedron\n",
      "Printing model: robot pendant\n",
      "Printing model: phone case\n",
      "\n",
      "The following models have been printed:\n",
      "dodecahedron\n",
      "robot pendant\n",
      "phone case\n"
     ]
    }
   ],
   "source": [
    "# 8-15\n",
    "import printing_functions as pf\n",
    "\n",
    "unprinted_designs = ['phone case', 'robot pendant', 'dodecahedron']\n",
    "completed_models = []\n",
    "\n",
    "pf.print_models(unprinted_designs, completed_models)\n",
    "pf.show_completed_models(completed_models)"
   ]
  },
  {
   "cell_type": "code",
   "execution_count": 50,
   "metadata": {},
   "outputs": [
    {
     "name": "stdout",
     "output_type": "stream",
     "text": [
      "H\n",
      "E\n",
      "L\n",
      "L\n",
      "O\n"
     ]
    }
   ],
   "source": [
    "# 8-16 import module_name\n",
    "import greeting\n",
    "\n",
    "messages = 'Hello'\n",
    "greeting.show_messages(messages)\n"
   ]
  },
  {
   "cell_type": "code",
   "execution_count": 51,
   "metadata": {},
   "outputs": [
    {
     "name": "stdout",
     "output_type": "stream",
     "text": [
      "Good Evening\n",
      "Good Night\n"
     ]
    }
   ],
   "source": [
    "# 8-16 from module_name import function_name\n",
    "from greeting import show_messages\n",
    "\n",
    "messages = ['good evening', 'good night']\n",
    "show_messages(messages)"
   ]
  },
  {
   "cell_type": "code",
   "execution_count": 44,
   "metadata": {},
   "outputs": [
    {
     "name": "stdout",
     "output_type": "stream",
     "text": [
      "Good Morning\n",
      "Good Evening\n",
      "Good Night\n",
      "Good Bye\n",
      "Safe Journey\n"
     ]
    }
   ],
   "source": [
    "# 8-16 from module_name import function_name as fn\n",
    "from greeting import show_messages as sm\n",
    "\n",
    "messages = ['good morning', 'good evening', 'good night', 'good bye', 'safe journey']\n",
    "show_messages(messages)"
   ]
  },
  {
   "cell_type": "code",
   "execution_count": 48,
   "metadata": {},
   "outputs": [
    {
     "name": "stdout",
     "output_type": "stream",
     "text": [
      "Good Morning\n",
      "Good Evening\n",
      "Good Bye\n",
      "Safe Journey\n"
     ]
    }
   ],
   "source": [
    "# 8-16 import module_name as mn\n",
    "import greeting as gt\n",
    "\n",
    "messages = ['good morning', 'good evening', 'good bye', 'safe journey']\n",
    "gt.show_messages(messages)"
   ]
  },
  {
   "cell_type": "code",
   "execution_count": 47,
   "metadata": {},
   "outputs": [
    {
     "name": "stdout",
     "output_type": "stream",
     "text": [
      "Good Morning\n",
      "Good Evening\n",
      "Good Night\n"
     ]
    }
   ],
   "source": [
    "# 8-16 from module_name import *\n",
    "from greeting import *\n",
    "\n",
    "messages = ['good morning', 'good evening', 'good night']\n",
    "show_messages(messages)"
   ]
  },
  {
   "cell_type": "code",
   "execution_count": null,
   "metadata": {},
   "outputs": [],
   "source": [
    "# 9-17\n",
    "\n",
    "def message():\n",
    "    \"\"\"printing text\"\"\"\n",
    "    print('what you are learning about in this chapter.')\n",
    "\n",
    "message()\n",
    "\n",
    "\n",
    "def make_car(manufacturer, model, **car_info):\n",
    "    car_info['manufacturer'] = manufacturer\n",
    "    car_info['model'] = model\n",
    "    return car_info\n",
    "\n",
    "car = make_car('subaru', 'outback', color='blue', tow_package=True)\n",
    "print(car)\n",
    "\n",
    "\n",
    "def make_album(artist_name, album_title, nums='None'):\n",
    "    \"\"\"function to return a processed value\"\"\"\n",
    "\n",
    "    album = {'name': artist_name, 'title': album_title}\n",
    "    if nums:\n",
    "        album['songs_no'] = nums\n",
    "    return album\n",
    "album1 = make_album('artist1', 'album1')\n",
    "album2 = make_album('artist1', 'album2')\n",
    "album3 = make_album('artist1', 'album3', 24)\n",
    "\n",
    "print(album1)\n",
    "print(album2)\n",
    "print(album3)"
   ]
  }
 ],
 "metadata": {
  "kernelspec": {
   "display_name": "Python 3",
   "language": "python",
   "name": "python3"
  },
  "language_info": {
   "codemirror_mode": {
    "name": "ipython",
    "version": 3
   },
   "file_extension": ".py",
   "mimetype": "text/x-python",
   "name": "python",
   "nbconvert_exporter": "python",
   "pygments_lexer": "ipython3",
   "version": "3.10.12"
  }
 },
 "nbformat": 4,
 "nbformat_minor": 2
}
