{
 "cells": [
  {
   "cell_type": "markdown",
   "metadata": {},
   "source": [
    "# 💻 Exercises: Day 22\n",
    "1. Scrape the following website and store the data as json file(url = 'http://www.bu.edu/president/boston-university-facts-stats/')."
   ]
  },
  {
   "cell_type": "code",
   "execution_count": 5,
   "metadata": {},
   "outputs": [
    {
     "name": "stdout",
     "output_type": "stream",
     "text": [
      "Scraped data has been stored in scraped_data.json\n"
     ]
    }
   ],
   "source": [
    "import requests\n",
    "from bs4 import BeautifulSoup\n",
    "import json\n",
    "\n",
    "# URL to scrape\n",
    "url = 'http://www.bu.edu/president/boston-university-facts-stats/'\n",
    "\n",
    "# Fetching HTML content from the URL\n",
    "response = requests.get(url)\n",
    "\n",
    "if response.status_code == 200:\n",
    "    soup = BeautifulSoup(response.content, 'html.parser')\n",
    "    \n",
    "    # Finding the relevant data, modify this part according to the structure of the website\n",
    "    data = {}\n",
    "    # For example, if the data is in a table, you might find it by its class or id:\n",
    "    table = soup.find('table', class_='some_class_name')  # Replace 'some_class_name' with the actual class name\n",
    "    if table:\n",
    "        # Extract data from the table and store it in the 'data' dictionary\n",
    "        # Example: iterate through table rows and columns to retrieve data\n",
    "        \n",
    "        # After retrieving data, store it in the 'data' dictionary\n",
    "        # Example: data['key'] = 'value'\n",
    "        \n",
    "        # Sample data storage:\n",
    "        data['sample_key'] = 'sample_value'\n",
    "    \n",
    "    # Save the scraped data to a JSON file\n",
    "    with open('scraped_data.json', 'w', encoding='utf-8') as file:\n",
    "        json.dump(data, file, ensure_ascii=False, indent=4)\n",
    "    \n",
    "    print(\"Scraped data has been stored in scraped_data.json\")\n",
    "else:\n",
    "    print(\"Failed to fetch data from the URL\")\n"
   ]
  },
  {
   "cell_type": "markdown",
   "metadata": {},
   "source": [
    "2. Extract the table in this url (https://archive.ics.uci.edu/ml/datasets.php) and change it to a json file"
   ]
  },
  {
   "cell_type": "code",
   "execution_count": 9,
   "metadata": {},
   "outputs": [
    {
     "name": "stdout",
     "output_type": "stream",
     "text": [
      "Failed to fetch the website. Status code: 404\n"
     ]
    }
   ],
   "source": [
    "import requests\n",
    "from bs4 import BeautifulSoup\n",
    "import json\n",
    "\n",
    "url = 'https://archive.ics.uci.edu/ml/datasets.php'\n",
    "\n",
    "# Send a GET request to the URL\n",
    "response = requests.get(url)\n",
    "\n",
    "if response.status_code == 200:\n",
    "    # Parse the HTML content using BeautifulSoup\n",
    "    soup = BeautifulSoup(response.content, 'html.parser')\n",
    "\n",
    "    # Find the table containing datasets\n",
    "    table = soup.find('table', {'cellpadding': '3'})\n",
    "\n",
    "    if table:\n",
    "        table_data = []\n",
    "        header = [th.text.strip() for th in table.find_all('th')]  # Extract header\n",
    "\n",
    "        # Extract data from each row of the table\n",
    "        rows = table.find_all('tr')[1:]  # Skip header row\n",
    "        for row in rows:\n",
    "            row_data = [td.text.strip() for td in row.find_all('td')]\n",
    "            table_data.append(dict(zip(header, row_data)))\n",
    "\n",
    "        # Save the scraped data as JSON\n",
    "        with open('uci_datasets.json', 'w', encoding='utf-8') as json_file:\n",
    "            json.dump(table_data, json_file, ensure_ascii=False, indent=4)\n",
    "            print(\"Data has been scraped and saved as 'uci_datasets.json'.\")\n",
    "\n",
    "    else:\n",
    "        print(\"No table found on the webpage.\")\n",
    "\n",
    "else:\n",
    "    print(\"Failed to fetch the website. Status code:\", response.status_code)\n"
   ]
  },
  {
   "cell_type": "markdown",
   "metadata": {},
   "source": [
    "3. Scrape the presidents table and store the data as json(https://en.wikipedia.org/wiki/List_of_presidents_of_the_United_States). The table is not very structured and the scrapping may take very long time."
   ]
  },
  {
   "cell_type": "code",
   "execution_count": 4,
   "metadata": {},
   "outputs": [
    {
     "name": "stdout",
     "output_type": "stream",
     "text": [
      "Data has been scraped and saved as 'us_presidents.json'.\n"
     ]
    }
   ],
   "source": [
    "import requests\n",
    "from bs4 import BeautifulSoup\n",
    "import json\n",
    "\n",
    "url = 'https://en.wikipedia.org/wiki/List_of_presidents_of_the_United_States'\n",
    "\n",
    "# Send a GET request to the URL\n",
    "response = requests.get(url)\n",
    "\n",
    "if response.status_code == 200:\n",
    "    # Parse the HTML content using BeautifulSoup\n",
    "    soup = BeautifulSoup(response.content, 'html.parser')\n",
    "\n",
    "    # Find the Presidents table\n",
    "    presidents_table = soup.find('table', {'class': 'wikitable'})\n",
    "\n",
    "    if presidents_table:\n",
    "        table_data = []\n",
    "        header = [th.text.strip() for th in presidents_table.find_all('th')]  # Extract header\n",
    "\n",
    "        # Extract data from each row of the table\n",
    "        rows = presidents_table.find_all('tr')[1:]  # Skip header row\n",
    "        for row in rows:\n",
    "            row_data = [td.text.strip() for td in row.find_all(['th', 'td'])]\n",
    "            table_data.append(dict(zip(header, row_data)))\n",
    "\n",
    "        # Save the scraped data as JSON\n",
    "        with open('us_presidents.json', 'w', encoding='utf-8') as json_file:\n",
    "            json.dump(table_data, json_file, ensure_ascii=False, indent=4)\n",
    "            print(\"Data has been scraped and saved as 'us_presidents.json'.\")\n",
    "\n",
    "    else:\n",
    "        print(\"No table found on the webpage.\")\n",
    "\n",
    "else:\n",
    "    print(\"Failed to fetch the website. Status code:\", response.status_code)\n"
   ]
  }
 ],
 "metadata": {
  "kernelspec": {
   "display_name": "Python 3",
   "language": "python",
   "name": "python3"
  },
  "language_info": {
   "codemirror_mode": {
    "name": "ipython",
    "version": 3
   },
   "file_extension": ".py",
   "mimetype": "text/x-python",
   "name": "python",
   "nbconvert_exporter": "python",
   "pygments_lexer": "ipython3",
   "version": "3.10.12"
  }
 },
 "nbformat": 4,
 "nbformat_minor": 2
}
