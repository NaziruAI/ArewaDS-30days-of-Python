{
 "cells": [
  {
   "cell_type": "markdown",
   "metadata": {},
   "source": [
    "# 💻 Exercises - Day 1\n",
    "## Exercise: Level 1\n",
    "#### Done in python shell\n",
    "\n",
    "## Exercise: Level 2\n",
    "#### 1. Check the python version you are using\n"
   ]
  },
  {
   "cell_type": "code",
   "execution_count": 1,
   "metadata": {},
   "outputs": [
    {
     "name": "stdout",
     "output_type": "stream",
     "text": [
      "Python 3.10.12\n"
     ]
    }
   ],
   "source": [
    "!python3 --version"
   ]
  },
  {
   "cell_type": "markdown",
   "metadata": {},
   "source": [
    "### 2. Do the following opration  +, -,*, /, %, ** and // . The operands are 3 and 4."
   ]
  },
  {
   "cell_type": "code",
   "execution_count": 16,
   "metadata": {},
   "outputs": [
    {
     "name": "stdout",
     "output_type": "stream",
     "text": [
      "-Addition(+): 3 + 4 is 7\n",
      "-Subtraction(-): 3 - 4 is -1\n",
      "-Multiplicatin(*); 3 * 4 is 12\n",
      "-Division(/): 3 / 4 is 0.75\n",
      "-Modular(%): 3 % 4 is 3\n",
      "-Exponential(**): 3 ** 4 is 81\n",
      "-Floor division oprator(//): 3 // 4 is 0\n"
     ]
    }
   ],
   "source": [
    " print(f'-Addition(+): 3 + 4 is {3+4}')\n",
    " print(f'-Subtraction(-): 3 - 4 is {3-4}')\n",
    " print(f'-Multiplicatin(*); 3 * 4 is {3*4}')\n",
    " print(f'-Division(/): 3 / 4 is {3/4}')\n",
    " print(f'-Modular(%): 3 % 4 is {3%4}')\n",
    " print(f'-Exponential(**): 3 ** 4 is {3**4}')\n",
    " print(f'-Floor division oprator(//): 3 // 4 is {3//4}')\n"
   ]
  },
  {
   "cell_type": "markdown",
   "metadata": {},
   "source": [
    "### 3.working with strings "
   ]
  },
  {
   "cell_type": "code",
   "execution_count": 18,
   "metadata": {},
   "outputs": [
    {
     "name": "stdout",
     "output_type": "stream",
     "text": [
      "Naziru Abdussalam Ibrahim\n",
      "Mai guga\n",
      "Nigeria\n",
      "I am enjoying 30 days of python\n"
     ]
    }
   ],
   "source": [
    "print('Naziru Abdussalam Ibrahim') # my name\n",
    "\n",
    "print('Mai guga')  # family name\n",
    "\n",
    "print('Nigeria') # my country\n",
    "\n",
    "print('I am enjoying 30 days of python')"
   ]
  },
  {
   "cell_type": "markdown",
   "metadata": {},
   "source": [
    "### 4. checking data type "
   ]
  },
  {
   "cell_type": "code",
   "execution_count": 2,
   "metadata": {},
   "outputs": [
    {
     "name": "stdout",
     "output_type": "stream",
     "text": [
      "<class 'int'>\n",
      "<class 'float'>\n",
      "<class 'float'>\n",
      "<class 'complex'>\n",
      "<class 'list'>\n",
      "<class 'str'>\n",
      "<class 'str'>\n",
      "<class 'str'>\n"
     ]
    }
   ],
   "source": [
    "print(type(10))\n",
    "print(type(9.8))\n",
    "print(type(3.14))\n",
    "print(type(4-4j))\n",
    "print(type(['Asabeneh', 'Python', 'Finland']))\n",
    "print(type('Naziru Abdusslam Ibrahim'))\n",
    "print(type('Mai guga'))\n",
    "print(type('Nigeria'))"
   ]
  },
  {
   "cell_type": "markdown",
   "metadata": {},
   "source": [
    "## Exercise: Level 3\n",
    "### 1. Examples of python data types "
   ]
  },
  {
   "cell_type": "code",
   "execution_count": 20,
   "metadata": {},
   "outputs": [
    {
     "name": "stdout",
     "output_type": "stream",
     "text": [
      "Integer: -80, Type: <class 'int'>\n",
      "Float: 6.84, Type: <class 'float'>\n",
      "Complex: (2+3j), Type: <class 'complex'>\n",
      "String: Hello, cohort2.0 fellows!, Type: <class 'str'>\n",
      "Boolean: True, Type: <class 'bool'>\n",
      "List: [1, 2, 3, 4, 5], Type: <class 'list'>\n",
      "Tuple: (10, 20, 30, 40, 50), Type: <class 'tuple'>\n",
      "Set: {1, 2, 3, 4, 5}, Type: <class 'set'>\n",
      "Dictionary: {'a': 1, 'b': 2, 'c': 3}, Type: <class 'dict'>\n"
     ]
    }
   ],
   "source": [
    "\n",
    "# Integer\n",
    "integer_number = -80\n",
    "\n",
    "# Float\n",
    "float_number = 6.84\n",
    "\n",
    "# Complex\n",
    "complex_number = 2 + 3j\n",
    "\n",
    "# String\n",
    "string_data = \"Hello, cohort2.0 fellows!\"\n",
    "\n",
    "# Boolean\n",
    "boolean_value = True\n",
    "\n",
    "# List\n",
    "list_data = [1, 2, 3, 4, 5]\n",
    "\n",
    "# Tuple\n",
    "tuple_data = (10, 20, 30, 40, 50)\n",
    "\n",
    "# Set\n",
    "set_data = {1, 2, 3, 4, 5}\n",
    "\n",
    "# Dictionary\n",
    "dictionary_data = {'a': 1, 'b': 2, 'c': 3}\n",
    "\n",
    "# Printing the data types and their values\n",
    "print(f\"Integer: {integer_number}, Type: {type(integer_number)}\")\n",
    "print(f\"Float: {float_number}, Type: {type(float_number)}\")\n",
    "print(f\"Complex: {complex_number}, Type: {type(complex_number)}\")\n",
    "print(f\"String: {string_data}, Type: {type(string_data)}\")\n",
    "print(f\"Boolean: {boolean_value}, Type: {type(boolean_value)}\")\n",
    "print(f\"List: {list_data}, Type: {type(list_data)}\")\n",
    "print(f\"Tuple: {tuple_data}, Type: {type(tuple_data)}\")\n",
    "print(f\"Set: {set_data}, Type: {type(set_data)}\")\n",
    "print(f\"Dictionary: {dictionary_data}, Type: {type(dictionary_data)}\")\n"
   ]
  },
  {
   "cell_type": "markdown",
   "metadata": {},
   "source": [
    "### 2. Find an Euclidian distance between (2, 3) and (10, 8)"
   ]
  },
  {
   "cell_type": "code",
   "execution_count": 12,
   "metadata": {},
   "outputs": [
    {
     "name": "stdout",
     "output_type": "stream",
     "text": [
      "The Euclidean distance between (2, 3) and (10, 8) is 9.43\n"
     ]
    }
   ],
   "source": [
    "import math\n",
    "\n",
    "# Coordinates of the points\n",
    "point1 = (2, 3)\n",
    "point2 = (10, 8)\n",
    "\n",
    "# Unpack the coordinates\n",
    "x1, y1 = point1\n",
    "x2, y2 = point2\n",
    "\n",
    "# Calculate Euclidean distance\n",
    "distance = math.sqrt((x2 - x1)**2 + (y2 - y1)**2)\n",
    "\n",
    "print(f\"The Euclidean distance between {point1} and {point2} is {distance:.2f}\")\n"
   ]
  },
  {
   "cell_type": "code",
   "execution_count": null,
   "metadata": {},
   "outputs": [],
   "source": []
  }
 ],
 "metadata": {
  "kernelspec": {
   "display_name": "Python 3",
   "language": "python",
   "name": "python3"
  },
  "language_info": {
   "codemirror_mode": {
    "name": "ipython",
    "version": 3
   },
   "file_extension": ".py",
   "mimetype": "text/x-python",
   "name": "python",
   "nbconvert_exporter": "python",
   "pygments_lexer": "ipython3",
   "version": "3.10.12"
  }
 },
 "nbformat": 4,
 "nbformat_minor": 2
}
