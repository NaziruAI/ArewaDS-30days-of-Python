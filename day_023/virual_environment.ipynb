{
 "cells": [
  {
   "cell_type": "markdown",
   "metadata": {},
   "source": [
    "# Exercises: Day 23\n",
    "__Q1- Create a project directory with a virtual environment based on the example given above.__\n",
    "\n",
    "I created folder named flask_project inside day 23 folder, I set up virtualenv using\n",
    "`pip install virtualenv`\n",
    "I create the virtualenv using `virtualenv venv` and activate the evn by `source venv/bin/activate`\n",
    "I installed flask suing `source venv/bin/activate`\n",
    "and I do `pip freeze` to see the parkages installed below\n",
    "`(venv) naziru@naziru:~/Desktop/arewaDS-Workspace/ArewaDS-30days-of-Python/day_023/flask_project$ pip freeze\n",
    "\n",
    "blinker==1.7.0\n",
    "click==8.1.7\n",
    "Flask==3.0.0\n",
    "itsdangerous==2.1.2\n",
    "Jinja2==3.1.2\n",
    "MarkupSafe==2.1.3\n",
    "Werkzeug==3.0.1`"
   ]
  }
 ],
 "metadata": {
  "language_info": {
   "name": "python"
  }
 },
 "nbformat": 4,
 "nbformat_minor": 2
}
