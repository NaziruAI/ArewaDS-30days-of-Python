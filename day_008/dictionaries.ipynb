{
 "cells": [
  {
   "cell_type": "markdown",
   "metadata": {},
   "source": [
    "# 💻 Exercises: Day 8"
   ]
  },
  {
   "cell_type": "code",
   "execution_count": 1,
   "metadata": {},
   "outputs": [
    {
     "name": "stdout",
     "output_type": "stream",
     "text": [
      "2. Dog_dict:  {'name': 'Husky', 'color': 'Cream dog', 'breed': 'Barbet', 'age': 23}\n",
      "3. Student_dict:  {'first_name': 'Naziru', 'last_name': 'Ibrahim', 'gender': 'Male', 'age': 30, 'is_marred': True, 'skills': ['JavaScript', 'React', 'Node', 'MongoDB'], 'country': 'Nigeria', 'city': 'Kano', 'address': {'house No,=.': 148, 'street': 'Manladan'}}\n",
      "4. Student_dict_length:  9\n",
      "5. Skills values: ['JavaScript', 'React', 'Node', 'MongoDB'] \n",
      " Data type: <class 'list'>\n",
      "6. Modified skills: {'first_name': 'Naziru', 'last_name': 'Ibrahim', 'gender': 'Male', 'age': 30, 'is_marred': True, 'skills': ['JavaScript', 'React', 'Node', 'MongoDB', ['Python', 'R']], 'country': 'Nigeria', 'city': 'Kano', 'address': {'house No,=.': 148, 'street': 'Manladan'}}\n",
      "7. Dog object key list: dict_keys(['name', 'color', 'breed', 'age'])\n",
      "8. Dog object value list: dict_values(['Husky', 'Cream dog', 'Barbet', 23])\n",
      "9. List of tuples: dict_items([('name', 'Husky'), ('color', 'Cream dog'), ('breed', 'Barbet'), ('age', 23)])\n",
      "10. New dog dictionary: {'name': 'Husky', 'breed': 'Barbet', 'age': 23} \n",
      " Deleted item: Cream dog\n"
     ]
    }
   ],
   "source": [
    "# 1. Create  an empty dictionary called dog\n",
    "dog = {}\n",
    "\n",
    "# 2. Add name, color, breed, legs, age to the dog dictionary\n",
    "dog = {\n",
    "    'name': 'Husky',\n",
    "    'color': 'Cream dog',\n",
    "    'breed': 'Barbet',\n",
    "    'age': 23\n",
    "}\n",
    "print('2. Dog_dict: ', dog)\n",
    "\n",
    "\n",
    "# 3. Create a student dictionary and add first_name, last_name, gender, age, marital status, skills, \n",
    "# country, city and address as keys for the dictionary\n",
    "student = {\n",
    "    'first_name':'Naziru',\n",
    "    'last_name':'Ibrahim',\n",
    "    'gender': 'Male',\n",
    "    'age': 30,\n",
    "    'is_marred':True,\n",
    "    'skills':['JavaScript', 'React', 'Node', 'MongoDB'],\n",
    "    'country':'Nigeria',\n",
    "    'city': 'Kano',\n",
    "    'address':{\n",
    "        'house No,=.': 148,\n",
    "        'street':'Manladan'\n",
    "    }\n",
    "    }\n",
    "print('3. Student_dict: ', student)\n",
    "\n",
    "# 4. Get the length of the student dictionary\n",
    "print('4. Student_dict_length: ', len(student))\n",
    "\n",
    "# 5. Get the value of skills and check the data type, it should be a list\n",
    "skills_values = student.get('skills')\n",
    "data_type = type(skills_values)\n",
    "print(f'5. Skills values: {skills_values} \\n Data type: {data_type}')\n",
    "\n",
    "# 6. Modify the skills values by adding one or two skills\n",
    "student['skills'].append(['Python', 'R'])\n",
    "print('6. Modified skills:', student)\n",
    "\n",
    "# 7. Get the dictionary keys as a list\n",
    "keys = dog.keys()\n",
    "print('7. Dog object key list:', keys)\n",
    "\n",
    "# 8. Get the dictionary values as a list\n",
    "values = dog.values()\n",
    "print('8. Dog object value list:', values)\n",
    "\n",
    "# 9. Change the dictionary to a list of tuples using _items()_ method\n",
    "print('9. List of tuples:', dog.items())\n",
    "\n",
    "# 10. Delete one of the items in the dictionary\n",
    "deleted_item = dog.pop('color')\n",
    "print(f'10. New dog dictionary: {dog} \\n Deleted item: {deleted_item}')\n",
    "\n",
    "# 11. Delete one of the dictionaries\n",
    "del dog"
   ]
  }
 ],
 "metadata": {
  "kernelspec": {
   "display_name": "Python 3",
   "language": "python",
   "name": "python3"
  },
  "language_info": {
   "codemirror_mode": {
    "name": "ipython",
    "version": 3
   },
   "file_extension": ".py",
   "mimetype": "text/x-python",
   "name": "python",
   "nbconvert_exporter": "python",
   "pygments_lexer": "ipython3",
   "version": "3.10.12"
  }
 },
 "nbformat": 4,
 "nbformat_minor": 2
}
