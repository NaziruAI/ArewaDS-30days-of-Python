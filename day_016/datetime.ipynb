{
 "cells": [
  {
   "cell_type": "markdown",
   "metadata": {},
   "source": [
    "# Exercises: Day 16"
   ]
  },
  {
   "cell_type": "code",
   "execution_count": 5,
   "metadata": {},
   "outputs": [
    {
     "name": "stdout",
     "output_type": "stream",
     "text": [
      "1. Current Date and Time:\n",
      "Day: 14, Month: 12, Year: 2023\n",
      "Hour: 11, Minute: 53\n",
      "Timestamp: 1702551196.916523\n",
      "\n",
      "2. Formatted current date: 12/14/2023, 11:53:16\n",
      "\n",
      "3. Time from the string: 00:00:00\n",
      "\n",
      "4. Time difference to New Year: 17 days, 12:06:43.083477\n",
      "\n",
      "5. Time difference to 1 January 1970: 19705 days, 11:53:16.916523\n"
     ]
    }
   ],
   "source": [
    "from datetime import datetime, timedelta\n",
    "\n",
    "# 1. Get current day, month, year, hour, minute, and timestamp\n",
    "now = datetime.now()\n",
    "current_day = now.day\n",
    "current_month = now.month\n",
    "current_year = now.year\n",
    "current_hour = now.hour\n",
    "current_minute = now.minute\n",
    "timestamp_now = datetime.timestamp(now)\n",
    "\n",
    "print(f\"1. Current Date and Time:\")\n",
    "print(f\"Day: {current_day}, Month: {current_month}, Year: {current_year}\")\n",
    "print(f\"Hour: {current_hour}, Minute: {current_minute}\")\n",
    "print(f\"Timestamp: {timestamp_now}\")\n",
    "\n",
    "# 2. Format the current date\n",
    "formatted_date = now.strftime(\"%m/%d/%Y, %H:%M:%S\")\n",
    "print(\"\\n2. Formatted current date:\", formatted_date)\n",
    "\n",
    "# 3. Changing time string to time\n",
    "time_string = \"5 December, 2019\"\n",
    "time_obj = datetime.strptime(time_string, \"%d %B, %Y\").time()\n",
    "print(\"\\n3. Time from the string:\", time_obj)\n",
    "\n",
    "# 4. Calculate time difference between now and New Year\n",
    "new_year = datetime(now.year + 1, 1, 1)\n",
    "time_difference_to_new_year = new_year - now\n",
    "print(\"\\n4. Time difference to New Year:\", time_difference_to_new_year)\n",
    "\n",
    "# 5. Calculate time difference between 1 January 1970 and now (Unix epoch)\n",
    "epoch = datetime(1970, 1, 1)\n",
    "time_difference_to_epoch = now - epoch\n",
    "print(\"\\n5. Time difference to 1 January 1970:\", time_difference_to_epoch)\n"
   ]
  },
  {
   "cell_type": "markdown",
   "metadata": {},
   "source": [
    "   <!-- 6. Think, what can you use the datetime module for? Examples: -->\n",
    "\n",
    "Absolutely, the datetime module in Python is incredibly versatile and can be used for various purposes in application development, data analysis, and more. Here are a few examples of how the datetime module can be utilized:\n",
    "\n",
    "#### 1. Time Series Analysis:\n",
    "The datetime module is extensively used in time series analysis tasks. It helps in handling, manipulating, and analyzing time-based data. This includes tasks such as:\n",
    "\n",
    "- Time stamping data points.\n",
    "- Resampling time series data.\n",
    "- Slicing and filtering data based on time.\n",
    "- Visualizing time series data.\n",
    "\n",
    "#### 2. Logging Timestamps in Applications:\n",
    "In application development, logging activities often include timestamps for various events or actions. The datetime module can be used to generate timestamps and log activities such as user actions, system events, errors, etc.\n",
    "\n",
    "#### 3. Blog or Content Management Systems:\n",
    "In a blog or content management system, the datetime module can assist in:\n",
    "\n",
    "* Timestamping blog posts, comments, or updates.\n",
    "* Sorting and filtering posts based on publication date.\n",
    "* Displaying dates and times in a user-friendly format on the front end.\n",
    "* Managing scheduled post publication or expiration.\n",
    "\n",
    "#### 4. Event Scheduling and Reminders:\n",
    "Applications that involve scheduling tasks, reminders, or events utilize the datetime module to manage dates, times, and durations. It helps in scheduling future events and sending reminders or notifications.\n",
    "\n",
    "#### 5. Data Processing and Calculations:\n",
    "When processing data that involves time or dates, the datetime module provides methods for calculations like finding time differences, adding or subtracting time intervals, converting time zones, and much more.\n",
    "\n",
    "#### 6. Financial and Economic Analysis:\n",
    "In financial or economic applications, the datetime module is used to handle time-related data for tasks such as analyzing stock market trends, conducting economic studies, and handling financial transactions based on timestamps.\n",
    "\n",
    "The datetime module is a fundamental part of Python that enables developers and analysts to work effectively with time and date-related data, making it highly valuable across various domains and application"
   ]
  },
  {
   "cell_type": "code",
   "execution_count": null,
   "metadata": {},
   "outputs": [],
   "source": []
  }
 ],
 "metadata": {
  "kernelspec": {
   "display_name": "Python 3",
   "language": "python",
   "name": "python3"
  },
  "language_info": {
   "codemirror_mode": {
    "name": "ipython",
    "version": 3
   },
   "file_extension": ".py",
   "mimetype": "text/x-python",
   "name": "python",
   "nbconvert_exporter": "python",
   "pygments_lexer": "ipython3",
   "version": "3.10.12"
  }
 },
 "nbformat": 4,
 "nbformat_minor": 2
}
